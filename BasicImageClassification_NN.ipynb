{
  "nbformat": 4,
  "nbformat_minor": 0,
  "metadata": {
    "colab": {
      "name": "BasicImageClassification_NN.ipynb",
      "provenance": [],
      "collapsed_sections": [
        "uLw1NXcpz368"
      ],
      "machine_shape": "hm",
      "include_colab_link": true
    },
    "kernelspec": {
      "name": "python3",
      "display_name": "Python 3"
    },
    "language_info": {
      "codemirror_mode": {
        "name": "ipython",
        "version": 3
      },
      "file_extension": ".py",
      "mimetype": "text/x-python",
      "name": "python",
      "nbconvert_exporter": "python",
      "pygments_lexer": "ipython3",
      "version": "3.5.2"
    },
    "accelerator": "GPU"
  },
  "cells": [
    {
      "cell_type": "markdown",
      "metadata": {
        "id": "view-in-github",
        "colab_type": "text"
      },
      "source": [
        "<a href=\"https://colab.research.google.com/github/bibake/FashionMNST_ImageClassification/blob/master/BasicImageClassification_NN.ipynb\" target=\"_parent\"><img src=\"https://colab.research.google.com/assets/colab-badge.svg\" alt=\"Open In Colab\"/></a>"
      ]
    },
    {
      "cell_type": "markdown",
      "metadata": {
        "id": "-TQ3NkKIXcG4",
        "colab_type": "text"
      },
      "source": [
        "**ML III**\n",
        "\n",
        "04-2020\n",
        "\n",
        "Bibake Uppal"
      ]
    },
    {
      "cell_type": "markdown",
      "metadata": {
        "id": "uLw1NXcpz368",
        "colab_type": "text"
      },
      "source": [
        "###### Licences"
      ]
    },
    {
      "cell_type": "markdown",
      "metadata": {
        "colab_type": "text",
        "id": "MhoQ0WE77laV"
      },
      "source": [
        "<font size=\"1\"> Copyright 2018 The TensorFlow Authors.\n",
        "\n",
        "<font size=\"1\"><font size=\"1\">Licensed under the Apache License, Version 2.0 (the \"License\"); you may not use this file except in compliance with the License.\n",
        "You may obtain a copy of the License [here](https://www.apache.org/licenses/LICENSE-2.0). Unless required by applicable law or agreed to in writing, software\n",
        "distributed under the License is distributed on an \"AS IS\" BASIS,\n",
        "WITHOUT WARRANTIES OR CONDITIONS OF ANY KIND, either express or implied.\n",
        "See the License for the specific language governing permissions and\n",
        "limitations under the License.\n",
        "\n",
        "<font size=\"1\">MIT License\n",
        "\n",
        "<font size=\"1\">Copyright (c) 2017 François Chollet\n",
        "\n",
        "<font size=\"1\">Permission is hereby granted, free of charge, to any person obtaining a\n",
        "copy of this software and associated documentation files (the \"Software\"),\n",
        "to deal in the Software without restriction, including without limitation\n",
        "the rights to use, copy, modify, merge, publish, distribute, sublicense,\n",
        "and/or sell copies of the Software, and to permit persons to whom the\n",
        "Software is furnished to do so, subject to the following conditions:\n",
        "\n",
        "<font size=\"1\">The above copyright notice and this permission notice shall be included in\n",
        "all copies or substantial portions of the Software.\n",
        "\n",
        "THE SOFTWARE IS PROVIDED \"AS IS\", WITHOUT WARRANTY OF ANY KIND, EXPRESS OR\n",
        "IMPLIED, INCLUDING BUT NOT LIMITED TO THE WARRANTIES OF MERCHANTABILITY,\n",
        "FITNESS FOR A PARTICULAR PURPOSE AND NONINFRINGEMENT. IN NO EVENT SHALL\n",
        "THE AUTHORS OR COPYRIGHT HOLDERS BE LIABLE FOR ANY CLAIM, DAMAGES OR OTHER\n",
        "LIABILITY, WHETHER IN AN ACTION OF CONTRACT, TORT OR OTHERWISE, ARISING\n",
        "FROM, OUT OF OR IN CONNECTION WITH THE SOFTWARE OR THE USE OR OTHER\n",
        "DEALINGS IN THE SOFTWARE. </font>\n",
        "\n",
        "---\n",
        "\n"
      ]
    },
    {
      "cell_type": "markdown",
      "metadata": {
        "colab_type": "text",
        "id": "jYysdyb-CaWM"
      },
      "source": [
        "# Basic classification: Classify images of clothing"
      ]
    },
    {
      "cell_type": "markdown",
      "metadata": {
        "colab_type": "text",
        "id": "FbVhjPpzn6BM"
      },
      "source": [
        "This notebook trains a neural network model to classify images of clothing, like sneakers and shirts.\n",
        "\n",
        "This notebook uses [tf.keras](https://www.tensorflow.org/guide/keras), a high-level API to build and train models in TensorFlow."
      ]
    },
    {
      "cell_type": "code",
      "metadata": {
        "colab_type": "code",
        "id": "dzLKpmZICaWN",
        "outputId": "6a0af04d-1a59-49fb-8d57-a71f39c4d377",
        "colab": {
          "base_uri": "https://localhost:8080/",
          "height": 68
        }
      },
      "source": [
        "from __future__ import absolute_import, division, print_function, unicode_literals\n",
        "\n",
        "# TensorFlow and Keras for modelling\n",
        "import tensorflow as tf\n",
        "from tensorflow import keras\n",
        "import tensorflow.keras\n",
        "from tensorflow.keras.preprocessing.image import ImageDataGenerator, load_img, img_to_array, array_to_img\n",
        "from tensorflow.keras.layers import Conv2D, MaxPooling2D, Flatten, Dense, Dropout\n",
        "from tensorflow.keras.models import Sequential\n",
        "from tensorflow.keras import optimizers\n",
        "from keras.layers.normalization import BatchNormalization\n",
        "from tensorflow.keras.applications import vgg16\n",
        "from tensorflow.keras.models import Model\n",
        "from tensorflow.keras.layers import InputLayer\n",
        "from tensorflow.keras.callbacks import EarlyStopping\n",
        "\n",
        "# Helper libraries\n",
        "import numpy as np\n",
        "import matplotlib.pyplot as plt\n",
        "import pandas as pd\n",
        "import datetime\n",
        "import cv2\n",
        "from sklearn.metrics import classification_report\n",
        "\n",
        "print(tf.__version__)\n",
        "\n",
        "%load_ext tensorboard\n",
        "!rm -rf ./logs/\n",
        "\n",
        "np.random.seed(123)"
      ],
      "execution_count": 0,
      "outputs": [
        {
          "output_type": "stream",
          "text": [
            "2.2.0-rc2\n",
            "The tensorboard extension is already loaded. To reload it, use:\n",
            "  %reload_ext tensorboard\n"
          ],
          "name": "stdout"
        }
      ]
    },
    {
      "cell_type": "markdown",
      "metadata": {
        "id": "vBUZetcl2LhO",
        "colab_type": "text"
      },
      "source": [
        "## 1. Preperation"
      ]
    },
    {
      "cell_type": "markdown",
      "metadata": {
        "colab_type": "text",
        "id": "yR0EdgrLCaWR"
      },
      "source": [
        "### 1.1 – Import the Fashion MNIST dataset"
      ]
    },
    {
      "cell_type": "markdown",
      "metadata": {
        "colab_type": "text",
        "id": "DLdCchMdCaWQ"
      },
      "source": [
        "This notebook uses the [Fashion MNIST](https://github.com/zalandoresearch/fashion-mnist) dataset which contains 70,000 grayscale images in 10 categories. The images show individual articles of clothing at low resolution (28 by 28 pixels), as seen here:\n",
        "\n",
        "<table>\n",
        "  <tr><td>\n",
        "    <img src=\"https://tensorflow.org/images/fashion-mnist-sprite.png\"\n",
        "         alt=\"Fashion MNIST sprite\"  width=\"600\">\n",
        "  </td></tr>\n",
        "  <tr><td align=\"center\">\n",
        "    <b>Figure 1.</b> <a href=\"https://github.com/zalandoresearch/fashion-mnist\">Fashion-MNIST samples</a> (by Zalando, MIT License).<br/>&nbsp;\n",
        "  </td></tr>\n",
        "</table>\n",
        "\n",
        "Fashion MNIST is intended as a drop-in replacement for the classic [MNIST](http://yann.lecun.com/exdb/mnist/) dataset—often used as the \"Hello, World\" of machine learning programs for computer vision. The MNIST dataset contains images of handwritten digits (0, 1, 2, etc.) in a format identical to that of the articles of clothing you'll use here.\n",
        "\n",
        "Here, 60,000 images are used to train the network and 10,000 images to evaluate how accurately the network learned to classify images. You can access the Fashion MNIST directly from TensorFlow. Import and load the Fashion MNIST data directly from TensorFlow:"
      ]
    },
    {
      "cell_type": "code",
      "metadata": {
        "colab_type": "code",
        "id": "7MqDQO0KCaWS",
        "colab": {}
      },
      "source": [
        "fashion_mnist = keras.datasets.fashion_mnist\n",
        "\n",
        "(train_images, train_labels), (test_images, test_labels) = fashion_mnist.load_data()"
      ],
      "execution_count": 0,
      "outputs": []
    },
    {
      "cell_type": "markdown",
      "metadata": {
        "colab_type": "text",
        "id": "t9FDsUlxCaWW"
      },
      "source": [
        "Loading the dataset returns four NumPy arrays:\n",
        "\n",
        "* The `train_images` and `train_labels` arrays are the *training set*—the data the model uses to learn.\n",
        "* The model is tested against the *test set*, the `test_images`, and `test_labels` arrays.\n",
        "\n",
        "The images are 28x28 NumPy arrays, with pixel values ranging from 0 to 255. The *labels* are an array of integers, ranging from 0 to 9. These correspond to the *class* of clothing the image represents:\n",
        "\n",
        "<table>\n",
        "  <tr>\n",
        "    <th>Label</th>\n",
        "    <th>Class</th>\n",
        "  </tr>\n",
        "  <tr>\n",
        "    <td>0</td>\n",
        "    <td>T-shirt/top</td>\n",
        "  </tr>\n",
        "  <tr>\n",
        "    <td>1</td>\n",
        "    <td>Trouser</td>\n",
        "  </tr>\n",
        "    <tr>\n",
        "    <td>2</td>\n",
        "    <td>Pullover</td>\n",
        "  </tr>\n",
        "    <tr>\n",
        "    <td>3</td>\n",
        "    <td>Dress</td>\n",
        "  </tr>\n",
        "    <tr>\n",
        "    <td>4</td>\n",
        "    <td>Coat</td>\n",
        "  </tr>\n",
        "    <tr>\n",
        "    <td>5</td>\n",
        "    <td>Sandal</td>\n",
        "  </tr>\n",
        "    <tr>\n",
        "    <td>6</td>\n",
        "    <td>Shirt</td>\n",
        "  </tr>\n",
        "    <tr>\n",
        "    <td>7</td>\n",
        "    <td>Sneaker</td>\n",
        "  </tr>\n",
        "    <tr>\n",
        "    <td>8</td>\n",
        "    <td>Bag</td>\n",
        "  </tr>\n",
        "    <tr>\n",
        "    <td>9</td>\n",
        "    <td>Ankle boot</td>\n",
        "  </tr>\n",
        "</table>\n",
        "\n",
        "Each image is mapped to a single label. Since the *class names* are not included with the dataset, store them here to use later when plotting the images:"
      ]
    },
    {
      "cell_type": "code",
      "metadata": {
        "colab_type": "code",
        "id": "IjnLH5S2CaWx",
        "colab": {}
      },
      "source": [
        "class_names = ['T-shirt/top', 'Trouser', 'Pullover', 'Dress', 'Coat',\n",
        "               'Sandal', 'Shirt', 'Sneaker', 'Bag', 'Ankle boot']"
      ],
      "execution_count": 0,
      "outputs": []
    },
    {
      "cell_type": "markdown",
      "metadata": {
        "colab_type": "text",
        "id": "Brm0b_KACaWX"
      },
      "source": [
        "### 1.2 – Explore the data\n",
        "\n",
        "Let's explore the format of the dataset before training the model. The following shows there are 60,000 images in the training set, with each image represented as 28 x 28 pixels:"
      ]
    },
    {
      "cell_type": "code",
      "metadata": {
        "colab_type": "code",
        "id": "zW5k_xz1CaWX",
        "outputId": "ddc50ac5-9645-4c2a-aa69-a4b2cb069f39",
        "colab": {
          "base_uri": "https://localhost:8080/",
          "height": 34
        }
      },
      "source": [
        "train_images.shape"
      ],
      "execution_count": 0,
      "outputs": [
        {
          "output_type": "execute_result",
          "data": {
            "text/plain": [
              "(60000, 28, 28)"
            ]
          },
          "metadata": {
            "tags": []
          },
          "execution_count": 34
        }
      ]
    },
    {
      "cell_type": "markdown",
      "metadata": {
        "colab_type": "text",
        "id": "cIAcvQqMCaWf"
      },
      "source": [
        "Likewise, there are 60,000 labels in the training set:"
      ]
    },
    {
      "cell_type": "code",
      "metadata": {
        "colab_type": "code",
        "id": "TRFYHB2mCaWb",
        "outputId": "e6a4b13a-c42b-4565-c4d1-5fab69a305d5",
        "colab": {
          "base_uri": "https://localhost:8080/",
          "height": 34
        }
      },
      "source": [
        "len(train_labels)"
      ],
      "execution_count": 0,
      "outputs": [
        {
          "output_type": "execute_result",
          "data": {
            "text/plain": [
              "60000"
            ]
          },
          "metadata": {
            "tags": []
          },
          "execution_count": 35
        }
      ]
    },
    {
      "cell_type": "markdown",
      "metadata": {
        "colab_type": "text",
        "id": "YSlYxFuRCaWk"
      },
      "source": [
        "Each label is an integer between 0 and 9:"
      ]
    },
    {
      "cell_type": "code",
      "metadata": {
        "colab_type": "code",
        "id": "XKnCTHz4CaWg",
        "outputId": "42422e3f-4f72-46d9-ec4d-108bc97d43da",
        "colab": {
          "base_uri": "https://localhost:8080/",
          "height": 34
        }
      },
      "source": [
        "train_labels"
      ],
      "execution_count": 0,
      "outputs": [
        {
          "output_type": "execute_result",
          "data": {
            "text/plain": [
              "array([9, 0, 0, ..., 3, 0, 5], dtype=uint8)"
            ]
          },
          "metadata": {
            "tags": []
          },
          "execution_count": 36
        }
      ]
    },
    {
      "cell_type": "markdown",
      "metadata": {
        "colab_type": "text",
        "id": "TMPI88iZpO2T"
      },
      "source": [
        "There are 10,000 images in the test set. Again, each image is represented as 28 x 28 pixels:"
      ]
    },
    {
      "cell_type": "code",
      "metadata": {
        "colab_type": "code",
        "id": "2KFnYlcwCaWl",
        "outputId": "aef1cb9c-4747-4ff6-bb37-7bda4adee643",
        "colab": {
          "base_uri": "https://localhost:8080/",
          "height": 34
        }
      },
      "source": [
        "test_images.shape"
      ],
      "execution_count": 0,
      "outputs": [
        {
          "output_type": "execute_result",
          "data": {
            "text/plain": [
              "(10000, 28, 28)"
            ]
          },
          "metadata": {
            "tags": []
          },
          "execution_count": 37
        }
      ]
    },
    {
      "cell_type": "markdown",
      "metadata": {
        "colab_type": "text",
        "id": "rd0A0Iu0CaWq"
      },
      "source": [
        "And the test set contains 10,000 images labels:"
      ]
    },
    {
      "cell_type": "code",
      "metadata": {
        "colab_type": "code",
        "id": "iJmPr5-ACaWn",
        "outputId": "4ea42304-88de-44b1-d1fe-ecbbad973c34",
        "colab": {
          "base_uri": "https://localhost:8080/",
          "height": 34
        }
      },
      "source": [
        "len(test_labels)"
      ],
      "execution_count": 0,
      "outputs": [
        {
          "output_type": "execute_result",
          "data": {
            "text/plain": [
              "10000"
            ]
          },
          "metadata": {
            "tags": []
          },
          "execution_count": 38
        }
      ]
    },
    {
      "cell_type": "markdown",
      "metadata": {
        "colab_type": "text",
        "id": "ES6uQoLKCaWr"
      },
      "source": [
        "### 1.3 – Preprocess the data\n",
        "\n",
        "The data must be preprocessed before training the network. If you inspect the first image in the training set, you will see that the pixel values fall in the range of 0 to 255:"
      ]
    },
    {
      "cell_type": "code",
      "metadata": {
        "colab_type": "code",
        "id": "m4VEw8Ud9Quh",
        "outputId": "138666c9-dedf-4822-bdf7-05a698932a04",
        "colab": {
          "base_uri": "https://localhost:8080/",
          "height": 265
        }
      },
      "source": [
        "plt.figure()\n",
        "plt.imshow(train_images[0], cmap=plt.cm.binary)\n",
        "plt.colorbar()\n",
        "plt.grid(False)\n",
        "plt.show()"
      ],
      "execution_count": 0,
      "outputs": [
        {
          "output_type": "display_data",
          "data": {
            "image/png": "[encoded data removed]",
            "text/plain": [
              "<Figure size 432x288 with 2 Axes>"
            ]
          },
          "metadata": {
            "tags": []
          }
        }
      ]
    },
    {
      "cell_type": "markdown",
      "metadata": {
        "colab_type": "text",
        "id": "Wz7l27Lz9S1P"
      },
      "source": [
        "Scale these values to a range of 0 to 1 before feeding them to the neural network model. To do so, divide the values by 255. It's important that the *training set* and the *testing set* be preprocessed in the same way:"
      ]
    },
    {
      "cell_type": "code",
      "metadata": {
        "colab_type": "code",
        "id": "bW5WzIPlCaWv",
        "colab": {}
      },
      "source": [
        "train_images = train_images / 255.0\n",
        "\n",
        "test_images = test_images / 255.0"
      ],
      "execution_count": 0,
      "outputs": []
    },
    {
      "cell_type": "markdown",
      "metadata": {
        "colab_type": "text",
        "id": "Ee638AlnCaWz"
      },
      "source": [
        "To verify that the data is in the correct format and that you're ready to build and train the network, let's display the first 25 images from the *training set* and display the class name below each image."
      ]
    },
    {
      "cell_type": "code",
      "metadata": {
        "colab_type": "code",
        "id": "oZTImqg_CaW1",
        "outputId": "7117141e-dee2-40d7-ec3e-0450bee8d850",
        "colab": {
          "base_uri": "https://localhost:8080/",
          "height": 589
        }
      },
      "source": [
        "plt.figure(figsize=(10,10))\n",
        "for i in range(25):\n",
        "    plt.subplot(5,5,i+1)\n",
        "    plt.xticks([])\n",
        "    plt.yticks([])\n",
        "    plt.grid(False)\n",
        "    plt.imshow(train_images[i], cmap=plt.cm.binary)\n",
        "    plt.xlabel(class_names[train_labels[i]])\n",
        "plt.show()"
      ],
      "execution_count": 0,
      "outputs": [
        {
          "output_type": "display_data",
          "data": {
            "image/png": "[encoded data removed]",
            "text/plain": [
              "<Figure size 720x720 with 25 Axes>"
            ]
          },
          "metadata": {
            "tags": []
          }
        }
      ]
    },
    {
      "cell_type": "markdown",
      "metadata": {
        "colab_type": "text",
        "id": "59veuiEZCaW4"
      },
      "source": [
        "## 2. Modelling\n",
        "\n",
        "Building the neural network requires configuring the layers of the model, then compiling the model."
      ]
    },
    {
      "cell_type": "markdown",
      "metadata": {
        "id": "Imrn8Nag0wNv",
        "colab_type": "text"
      },
      "source": [
        "### 2.1 – Base Perceptron"
      ]
    },
    {
      "cell_type": "markdown",
      "metadata": {
        "colab_type": "text",
        "id": "Gxg1XGm0eOBy"
      },
      "source": [
        "#### 2.1.1 – Set up the layers\n",
        "\n",
        "The basic building block of a neural network is the *layer*. Layers extract representations from the data fed into them. Hopefully, these representations are meaningful for the problem at hand.\n",
        "\n",
        "Most of deep learning consists of chaining together simple layers. Most layers, such as `tf.keras.layers.Dense`, have parameters that are learned during training."
      ]
    },
    {
      "cell_type": "code",
      "metadata": {
        "colab_type": "code",
        "id": "9ODch-OFCaW4",
        "colab": {}
      },
      "source": [
        "model = keras.Sequential([\n",
        "    keras.layers.Flatten(input_shape=(28, 28)),\n",
        "    keras.layers.Dense(512, activation='relu'),\n",
        "    keras.layers.Dropout(0.3),\n",
        "    # keras.layers.Dense(150, activation='relu'),\n",
        "    keras.layers.Dense(100, activation='relu'),\n",
        "    # keras.layers.Dense(100, activation='relu'),\n",
        "    keras.layers.Dense(10, activation='softmax')\n",
        "])"
      ],
      "execution_count": 0,
      "outputs": []
    },
    {
      "cell_type": "markdown",
      "metadata": {
        "colab_type": "text",
        "id": "gut8A_7rCaW6"
      },
      "source": [
        "The first layer in this network, `tf.keras.layers.Flatten`, transforms the format of the images from a two-dimensional array (of 28 by 28 pixels) to a one-dimensional array (of 28 * 28 = 784 pixels). Think of this layer as unstacking rows of pixels in the image and lining them up. This layer has no parameters to learn; it only reformats the data.\n",
        "\n",
        "After the pixels are flattened, the network consists of a sequence of two `tf.keras.layers.Dense` layers. These are densely connected, or fully connected, neural layers. The first `Dense` layer has 512 nodes (or neurons). The second (and last) layer is a 10-node *softmax* layer that returns an array of 10 probability scores that sum to 1. Each node contains a score that indicates the probability that the current image belongs to one of the 10 classes.\n",
        "\n",
        "#### 2.1.2 – Compile the model\n",
        "\n",
        "Before the model is ready for training, it needs a few more settings. These are added during the model's *compile* step:\n",
        "\n",
        "* *Loss function* —This measures how accurate the model is during training. You want to minimize this function to \"steer\" the model in the right direction.\n",
        "* *Optimizer* —This is how the model is updated based on the data it sees and its loss function.\n",
        "* *Metrics* —Used to monitor the training and testing steps. The following example uses *accuracy*, the fraction of the images that are correctly classified."
      ]
    },
    {
      "cell_type": "code",
      "metadata": {
        "colab_type": "code",
        "id": "Lhan11blCaW7",
        "colab": {}
      },
      "source": [
        "model.compile(optimizer='Adamax',\n",
        "              loss='sparse_categorical_crossentropy',\n",
        "              metrics=['accuracy'])"
      ],
      "execution_count": 0,
      "outputs": []
    },
    {
      "cell_type": "code",
      "metadata": {
        "id": "ehNavYSyTy6S",
        "colab_type": "code",
        "outputId": "967382c4-02a8-44ab-da0b-f6c9ffdd8912",
        "colab": {
          "base_uri": "https://localhost:8080/",
          "height": 323
        }
      },
      "source": [
        "model.summary()"
      ],
      "execution_count": 0,
      "outputs": [
        {
          "output_type": "stream",
          "text": [
            "Model: \"sequential_4\"\n",
            "_________________________________________________________________\n",
            "Layer (type)                 Output Shape              Param #   \n",
            "=================================================================\n",
            "flatten_4 (Flatten)          (None, 784)               0         \n",
            "_________________________________________________________________\n",
            "dense_13 (Dense)             (None, 512)               401920    \n",
            "_________________________________________________________________\n",
            "dropout_4 (Dropout)          (None, 512)               0         \n",
            "_________________________________________________________________\n",
            "dense_14 (Dense)             (None, 100)               51300     \n",
            "_________________________________________________________________\n",
            "dense_15 (Dense)             (None, 10)                1010      \n",
            "=================================================================\n",
            "Total params: 454,230\n",
            "Trainable params: 454,230\n",
            "Non-trainable params: 0\n",
            "_________________________________________________________________\n"
          ],
          "name": "stdout"
        }
      ]
    },
    {
      "cell_type": "markdown",
      "metadata": {
        "colab_type": "text",
        "id": "qKF6uW-BCaW-"
      },
      "source": [
        "#### 2.1.3 – Train the model\n",
        "\n",
        "Training the neural network model requires the following steps:\n",
        "\n",
        "1. Feed the training data to the model. In this example, the training data is in the `train_images` and `train_labels` arrays.\n",
        "2. The model learns to associate images and labels.\n",
        "3. You ask the model to make predictions about a test set—in this example, the `test_images` array. Verify that the predictions match the labels from the `test_labels` array.\n",
        "\n",
        "To start training,  call the `model.fit` method—so called because it \"fits\" the model to the training data:"
      ]
    },
    {
      "cell_type": "code",
      "metadata": {
        "id": "mKBpbQdx_Fb0",
        "colab_type": "code",
        "colab": {}
      },
      "source": [
        "es = EarlyStopping(patience = 5, restore_best_weights=True)\n",
        "log_dir = \"logs/fit/\" + datetime.datetime.now().strftime(\"%Y%m%d-%H%M%S\")\n",
        "tensorboard_callback = tf.keras.callbacks.TensorBoard(log_dir=log_dir, histogram_freq=1)"
      ],
      "execution_count": 0,
      "outputs": []
    },
    {
      "cell_type": "code",
      "metadata": {
        "colab_type": "code",
        "id": "xvwvpA64CaW_",
        "outputId": "1ad28b73-bea2-4162-b950-bcc435e6ccf8",
        "colab": {
          "base_uri": "https://localhost:8080/",
          "height": 969
        }
      },
      "source": [
        "np.random.seed(123)\n",
        "history = model.fit(train_images, train_labels, epochs=1000, callbacks=[es, tensorboard_callback], validation_split=0.3)"
      ],
      "execution_count": 0,
      "outputs": [
        {
          "output_type": "stream",
          "text": [
            "Epoch 1/1000\n",
            "1313/1313 [==============================] - 29s 22ms/step - loss: 0.5732 - accuracy: 0.7990 - val_loss: 0.4486 - val_accuracy: 0.8349\n",
            "Epoch 2/1000\n",
            "1313/1313 [==============================] - 30s 23ms/step - loss: 0.4266 - accuracy: 0.8462 - val_loss: 0.3887 - val_accuracy: 0.8604\n",
            "Epoch 3/1000\n",
            "1313/1313 [==============================] - 29s 22ms/step - loss: 0.3818 - accuracy: 0.8616 - val_loss: 0.3546 - val_accuracy: 0.8733\n",
            "Epoch 4/1000\n",
            "1313/1313 [==============================] - 29s 22ms/step - loss: 0.3540 - accuracy: 0.8695 - val_loss: 0.3475 - val_accuracy: 0.8748\n",
            "Epoch 5/1000\n",
            "1313/1313 [==============================] - 29s 22ms/step - loss: 0.3360 - accuracy: 0.8778 - val_loss: 0.3581 - val_accuracy: 0.8708\n",
            "Epoch 6/1000\n",
            "1313/1313 [==============================] - 29s 22ms/step - loss: 0.3221 - accuracy: 0.8813 - val_loss: 0.3305 - val_accuracy: 0.8807\n",
            "Epoch 7/1000\n",
            "1313/1313 [==============================] - 29s 22ms/step - loss: 0.3092 - accuracy: 0.8868 - val_loss: 0.3189 - val_accuracy: 0.8845\n",
            "Epoch 8/1000\n",
            "1313/1313 [==============================] - 29s 22ms/step - loss: 0.2990 - accuracy: 0.8888 - val_loss: 0.3143 - val_accuracy: 0.8874\n",
            "Epoch 9/1000\n",
            "1313/1313 [==============================] - 29s 22ms/step - loss: 0.2870 - accuracy: 0.8937 - val_loss: 0.3206 - val_accuracy: 0.8836\n",
            "Epoch 10/1000\n",
            "1313/1313 [==============================] - 29s 22ms/step - loss: 0.2767 - accuracy: 0.8972 - val_loss: 0.3090 - val_accuracy: 0.8882\n",
            "Epoch 11/1000\n",
            "1313/1313 [==============================] - 29s 22ms/step - loss: 0.2716 - accuracy: 0.8995 - val_loss: 0.3025 - val_accuracy: 0.8902\n",
            "Epoch 12/1000\n",
            "1313/1313 [==============================] - 29s 22ms/step - loss: 0.2640 - accuracy: 0.9018 - val_loss: 0.2983 - val_accuracy: 0.8925\n",
            "Epoch 13/1000\n",
            "1313/1313 [==============================] - 30s 23ms/step - loss: 0.2549 - accuracy: 0.9052 - val_loss: 0.3061 - val_accuracy: 0.8906\n",
            "Epoch 14/1000\n",
            "1313/1313 [==============================] - 29s 22ms/step - loss: 0.2486 - accuracy: 0.9071 - val_loss: 0.3089 - val_accuracy: 0.8903\n",
            "Epoch 15/1000\n",
            "1313/1313 [==============================] - 29s 22ms/step - loss: 0.2430 - accuracy: 0.9090 - val_loss: 0.2982 - val_accuracy: 0.8947\n",
            "Epoch 16/1000\n",
            "1313/1313 [==============================] - 29s 22ms/step - loss: 0.2407 - accuracy: 0.9090 - val_loss: 0.2988 - val_accuracy: 0.8936\n",
            "Epoch 17/1000\n",
            "1313/1313 [==============================] - 29s 22ms/step - loss: 0.2312 - accuracy: 0.9140 - val_loss: 0.2947 - val_accuracy: 0.8934\n",
            "Epoch 18/1000\n",
            "1313/1313 [==============================] - 29s 22ms/step - loss: 0.2257 - accuracy: 0.9155 - val_loss: 0.3049 - val_accuracy: 0.8913\n",
            "Epoch 19/1000\n",
            "1313/1313 [==============================] - 29s 22ms/step - loss: 0.2232 - accuracy: 0.9165 - val_loss: 0.2950 - val_accuracy: 0.8937\n",
            "Epoch 20/1000\n",
            "1313/1313 [==============================] - 29s 22ms/step - loss: 0.2162 - accuracy: 0.9187 - val_loss: 0.2994 - val_accuracy: 0.8944\n",
            "Epoch 21/1000\n",
            "1313/1313 [==============================] - 29s 22ms/step - loss: 0.2103 - accuracy: 0.9208 - val_loss: 0.3074 - val_accuracy: 0.8912\n",
            "Epoch 22/1000\n",
            "1313/1313 [==============================] - 29s 22ms/step - loss: 0.2075 - accuracy: 0.9222 - val_loss: 0.2933 - val_accuracy: 0.8969\n",
            "Epoch 23/1000\n",
            "1313/1313 [==============================] - 29s 22ms/step - loss: 0.2030 - accuracy: 0.9240 - val_loss: 0.2931 - val_accuracy: 0.8968\n",
            "Epoch 24/1000\n",
            "1313/1313 [==============================] - 30s 23ms/step - loss: 0.1998 - accuracy: 0.9254 - val_loss: 0.3062 - val_accuracy: 0.8937\n",
            "Epoch 25/1000\n",
            "1313/1313 [==============================] - 29s 22ms/step - loss: 0.1931 - accuracy: 0.9274 - val_loss: 0.2977 - val_accuracy: 0.8993\n",
            "Epoch 26/1000\n",
            "1313/1313 [==============================] - 29s 22ms/step - loss: 0.1907 - accuracy: 0.9280 - val_loss: 0.3005 - val_accuracy: 0.8966\n",
            "Epoch 27/1000\n",
            "1313/1313 [==============================] - 29s 22ms/step - loss: 0.1853 - accuracy: 0.9298 - val_loss: 0.3140 - val_accuracy: 0.8952\n",
            "Epoch 28/1000\n",
            "1313/1313 [==============================] - 29s 22ms/step - loss: 0.1851 - accuracy: 0.9301 - val_loss: 0.2993 - val_accuracy: 0.8980\n"
          ],
          "name": "stdout"
        }
      ]
    },
    {
      "cell_type": "markdown",
      "metadata": {
        "id": "pzXMJ9oU1Kff",
        "colab_type": "text"
      },
      "source": [
        "#### 2.1.4 – Results"
      ]
    },
    {
      "cell_type": "code",
      "metadata": {
        "id": "9oQIyuUTFRCu",
        "colab_type": "code",
        "outputId": "a0b5eba2-1cfe-48ca-a6fc-fa2046b6bd32",
        "colab": {
          "base_uri": "https://localhost:8080/",
          "height": 34
        }
      },
      "source": [
        "print('The average accuracy for the last 3 epochs is: %.4f.' % np.mean(history.history['val_accuracy'][-3:]))"
      ],
      "execution_count": 0,
      "outputs": [
        {
          "output_type": "stream",
          "text": [
            "The average accuracy for the last 3 epochs is: 0.8966.\n"
          ],
          "name": "stdout"
        }
      ]
    },
    {
      "cell_type": "code",
      "metadata": {
        "id": "Bf8qsnVPDES9",
        "colab_type": "code",
        "outputId": "7312d3bd-b164-4a73-a1f9-bc3b9955199b",
        "colab": {
          "base_uri": "https://localhost:8080/",
          "height": 308
        }
      },
      "source": [
        "f, (ax1, ax2) = plt.subplots(1, 2, figsize=(12, 4))\n",
        "t = f.suptitle('Basic Multi-Layered Perceptron Performance', fontsize=12)\n",
        "f.subplots_adjust(top=0.85, wspace=0.3)\n",
        "\n",
        "epoch_list = list(range(len(history.history['loss'])))\n",
        "ax1.plot(epoch_list, history.history['accuracy'], label='Train Accuracy')\n",
        "ax1.plot(epoch_list, history.history['val_accuracy'], label='Validation Accuracy')\n",
        "ax1.set_ylabel('Accuracy Value')\n",
        "ax1.set_xlabel('Epoch')\n",
        "ax1.set_title('Accuracy')\n",
        "l1 = ax1.legend(loc=\"best\")\n",
        "\n",
        "ax2.plot(epoch_list, history.history['loss'], label='Train Loss')\n",
        "ax2.plot(epoch_list, history.history['val_loss'], label='Validation Loss')\n",
        "ax2.set_ylabel('Loss Value')\n",
        "ax2.set_xlabel('Epoch')\n",
        "ax2.set_title('Loss')\n",
        "l2 = ax2.legend(loc=\"best\")"
      ],
      "execution_count": 0,
      "outputs": [
        {
          "output_type": "display_data",
          "data": {
            "image/png": "[encoded data removed]",
            "text/plain": [
              "<Figure size 864x288 with 2 Axes>"
            ]
          },
          "metadata": {
            "tags": []
          }
        }
      ]
    },
    {
      "cell_type": "code",
      "metadata": {
        "id": "TXfPVvn-4voj",
        "colab_type": "code",
        "outputId": "8c95f405-4b53-4c84-e1c6-b2fc0cafa610",
        "colab": {
          "base_uri": "https://localhost:8080/",
          "height": 80
        }
      },
      "source": [
        "results_df = pd.DataFrame(columns=['Approach', 'Accuracy'])\n",
        "results_df.loc[len(results_df)] = ['Base Perceptron', np.mean(history.history['val_accuracy'][-4])]\n",
        "results_df"
      ],
      "execution_count": 0,
      "outputs": [
        {
          "output_type": "execute_result",
          "data": {
            "text/html": [
              "<div>\n",
              "<style scoped>\n",
              "    .dataframe tbody tr th:only-of-type {\n",
              "        vertical-align: middle;\n",
              "    }\n",
              "\n",
              "    .dataframe tbody tr th {\n",
              "        vertical-align: top;\n",
              "    }\n",
              "\n",
              "    .dataframe thead th {\n",
              "        text-align: right;\n",
              "    }\n",
              "</style>\n",
              "<table border=\"1\" class=\"dataframe\">\n",
              "  <thead>\n",
              "    <tr style=\"text-align: right;\">\n",
              "      <th></th>\n",
              "      <th>Approach</th>\n",
              "      <th>Accuracy</th>\n",
              "    </tr>\n",
              "  </thead>\n",
              "  <tbody>\n",
              "    <tr>\n",
              "      <th>0</th>\n",
              "      <td>Base Perceptron</td>\n",
              "      <td>0.899333</td>\n",
              "    </tr>\n",
              "  </tbody>\n",
              "</table>\n",
              "</div>"
            ],
            "text/plain": [
              "          Approach  Accuracy\n",
              "0  Base Perceptron  0.899333"
            ]
          },
          "metadata": {
            "tags": []
          },
          "execution_count": 49
        }
      ]
    },
    {
      "cell_type": "markdown",
      "metadata": {
        "id": "IXeqaKPYfCYx",
        "colab_type": "text"
      },
      "source": [
        "### 2.2 – Convolutional Neural Networks"
      ]
    },
    {
      "cell_type": "markdown",
      "metadata": {
        "id": "7BK0kiko1RYi",
        "colab_type": "text"
      },
      "source": [
        "#### 2.2.1 – Preprocess the data"
      ]
    },
    {
      "cell_type": "code",
      "metadata": {
        "id": "u5OmMtuHXWp6",
        "colab_type": "code",
        "outputId": "4de94bdc-bd65-4909-bb3b-831eee1934d4",
        "colab": {
          "base_uri": "https://localhost:8080/",
          "height": 51
        }
      },
      "source": [
        "train_imgs = [img_to_array(i) for i in train_images]\n",
        "train_imgs = np.array(train_imgs)\n",
        "\n",
        "test_imgs =  [img_to_array(i) for i in test_images]\n",
        "test_imgs = np.array(test_imgs)\n",
        "\n",
        "print(train_imgs.shape)\n",
        "print(test_imgs.shape)"
      ],
      "execution_count": 0,
      "outputs": [
        {
          "output_type": "stream",
          "text": [
            "(60000, 28, 28, 1)\n",
            "(10000, 28, 28, 1)\n"
          ],
          "name": "stdout"
        }
      ]
    },
    {
      "cell_type": "code",
      "metadata": {
        "id": "PylJy6rOZmGZ",
        "colab_type": "code",
        "outputId": "1c8aa3ef-e666-411b-da6e-621a50ad2995",
        "colab": {
          "base_uri": "https://localhost:8080/",
          "height": 62
        }
      },
      "source": [
        "print(train_imgs[0].shape)\n",
        "array_to_img(train_imgs[0])"
      ],
      "execution_count": 0,
      "outputs": [
        {
          "output_type": "stream",
          "text": [
            "(28, 28, 1)\n"
          ],
          "name": "stdout"
        },
        {
          "output_type": "execute_result",
          "data": {
            "image/png": "[encoded data removed]",
            "text/plain": [
              "<PIL.Image.Image image mode=L size=28x28 at 0x7F976EA976A0>"
            ]
          },
          "metadata": {
            "tags": []
          },
          "execution_count": 51
        }
      ]
    },
    {
      "cell_type": "markdown",
      "metadata": {
        "id": "MBUbfSDjfE70",
        "colab_type": "text"
      },
      "source": [
        "#### 2.2.2 – Base CNN"
      ]
    },
    {
      "cell_type": "markdown",
      "metadata": {
        "id": "vPuZgSii17fz",
        "colab_type": "text"
      },
      "source": [
        "##### 2.2.2.1 – Set up and compile model"
      ]
    },
    {
      "cell_type": "code",
      "metadata": {
        "id": "5hqwQDXsXazc",
        "colab_type": "code",
        "colab": {}
      },
      "source": [
        "# batch_size = 6000\n",
        "num_classes = 10\n",
        "epochs = 1000\n",
        "input_shape = (28, 28, 1)\n",
        "es = EarlyStopping(patience=3, restore_best_weights=True)"
      ],
      "execution_count": 0,
      "outputs": []
    },
    {
      "cell_type": "code",
      "metadata": {
        "id": "kAYQT_nyXA2H",
        "colab_type": "code",
        "outputId": "9b16eba5-77c2-4283-edd5-a0b2a7e4ae31",
        "colab": {
          "base_uri": "https://localhost:8080/",
          "height": 527
        }
      },
      "source": [
        "model_cnn = Sequential()\n",
        "\n",
        "model_cnn.add(Conv2D(32, kernel_size=(3, 3), use_bias=False, \n",
        "                 input_shape=(input_shape)))\n",
        "model_cnn.add(tf.keras.layers.BatchNormalization(axis=-1))\n",
        "model_cnn.add(tf.keras.layers.Activation(\"relu\"))\n",
        "\n",
        "model_cnn.add(Conv2D(32, kernel_size=(3, 3), activation='relu'))\n",
        "model_cnn.add(MaxPooling2D(pool_size=(2, 2)))\n",
        "\n",
        "model_cnn.add(Conv2D(64, kernel_size=(3, 3), activation='relu'))\n",
        "model_cnn.add(MaxPooling2D(pool_size=(2, 2)))\n",
        "\n",
        "model_cnn.add(Flatten())\n",
        "model_cnn.add(Dense(512, activation='relu'))\n",
        "model_cnn.add(Dense(100, activation='relu'))\n",
        "model_cnn.add(Dense(10, activation='softmax'))\n",
        "\n",
        "\n",
        "model_cnn.compile(loss='sparse_categorical_crossentropy',\n",
        "              optimizer=optimizers.RMSprop(),\n",
        "              metrics=['accuracy'])\n",
        "\n",
        "model_cnn.summary()"
      ],
      "execution_count": 0,
      "outputs": [
        {
          "output_type": "stream",
          "text": [
            "Model: \"sequential_7\"\n",
            "_________________________________________________________________\n",
            "Layer (type)                 Output Shape              Param #   \n",
            "=================================================================\n",
            "conv2d_11 (Conv2D)           (None, 26, 26, 32)        288       \n",
            "_________________________________________________________________\n",
            "batch_normalization_5 (Batch (None, 26, 26, 32)        128       \n",
            "_________________________________________________________________\n",
            "activation (Activation)      (None, 26, 26, 32)        0         \n",
            "_________________________________________________________________\n",
            "conv2d_12 (Conv2D)           (None, 24, 24, 32)        9248      \n",
            "_________________________________________________________________\n",
            "max_pooling2d_6 (MaxPooling2 (None, 12, 12, 32)        0         \n",
            "_________________________________________________________________\n",
            "conv2d_13 (Conv2D)           (None, 10, 10, 64)        18496     \n",
            "_________________________________________________________________\n",
            "max_pooling2d_7 (MaxPooling2 (None, 5, 5, 64)          0         \n",
            "_________________________________________________________________\n",
            "flatten_5 (Flatten)          (None, 1600)              0         \n",
            "_________________________________________________________________\n",
            "dense_16 (Dense)             (None, 512)               819712    \n",
            "_________________________________________________________________\n",
            "dense_17 (Dense)             (None, 100)               51300     \n",
            "_________________________________________________________________\n",
            "dense_18 (Dense)             (None, 10)                1010      \n",
            "=================================================================\n",
            "Total params: 900,182\n",
            "Trainable params: 900,118\n",
            "Non-trainable params: 64\n",
            "_________________________________________________________________\n"
          ],
          "name": "stdout"
        }
      ]
    },
    {
      "cell_type": "markdown",
      "metadata": {
        "id": "ZFvxGzEx2CHk",
        "colab_type": "text"
      },
      "source": [
        "##### 2.2.2.2 – Train the model"
      ]
    },
    {
      "cell_type": "code",
      "metadata": {
        "id": "WEaqpKukcyOh",
        "colab_type": "code",
        "colab": {}
      },
      "source": [
        "tf.config.experimental_run_functions_eagerly(True)"
      ],
      "execution_count": 0,
      "outputs": []
    },
    {
      "cell_type": "code",
      "metadata": {
        "id": "kn2sTEEGXvyu",
        "colab_type": "code",
        "outputId": "10a8e27e-dfde-487b-df8b-3131b01ea840",
        "colab": {
          "base_uri": "https://localhost:8080/",
          "height": 187
        }
      },
      "source": [
        "np.random.seed(123)\n",
        "history = model_cnn.fit(x=train_imgs, y=train_labels,\n",
        "                        # batch_size=batch_size,\n",
        "                        epochs=epochs,\n",
        "                        callbacks = [es, tensorboard_callback],\n",
        "                        validation_split=0.3)"
      ],
      "execution_count": 0,
      "outputs": [
        {
          "output_type": "stream",
          "text": [
            "Epoch 1/1000\n",
            "1313/1313 [==============================] - 61s 46ms/step - loss: 0.4353 - accuracy: 0.8439 - val_loss: 0.3795 - val_accuracy: 0.8635\n",
            "Epoch 2/1000\n",
            "1313/1313 [==============================] - 59s 45ms/step - loss: 0.3029 - accuracy: 0.8936 - val_loss: 0.3012 - val_accuracy: 0.8932\n",
            "Epoch 3/1000\n",
            "1313/1313 [==============================] - 59s 45ms/step - loss: 0.2832 - accuracy: 0.8995 - val_loss: 0.3863 - val_accuracy: 0.8676\n",
            "Epoch 4/1000\n",
            "1313/1313 [==============================] - 59s 45ms/step - loss: 0.2736 - accuracy: 0.9035 - val_loss: 0.5248 - val_accuracy: 0.8792\n",
            "Epoch 5/1000\n",
            "1313/1313 [==============================] - 59s 45ms/step - loss: 0.2812 - accuracy: 0.9051 - val_loss: 0.3522 - val_accuracy: 0.8821\n"
          ],
          "name": "stdout"
        }
      ]
    },
    {
      "cell_type": "markdown",
      "metadata": {
        "id": "_205xo2r29Ex",
        "colab_type": "text"
      },
      "source": [
        "##### 2.2.2.3 – Results"
      ]
    },
    {
      "cell_type": "code",
      "metadata": {
        "id": "QCK1ddxRoW2L",
        "colab_type": "code",
        "outputId": "a591ec7e-ce62-43b5-cb2b-d026f17c1aa9",
        "colab": {
          "base_uri": "https://localhost:8080/",
          "height": 34
        }
      },
      "source": [
        "print('The average accuracy for the last 3 epochs is: %.4f.' % np.mean(history.history['val_accuracy'][-3:]))"
      ],
      "execution_count": 0,
      "outputs": [
        {
          "output_type": "stream",
          "text": [
            "The average accuracy for the last 3 epochs is: 0.8763.\n"
          ],
          "name": "stdout"
        }
      ]
    },
    {
      "cell_type": "code",
      "metadata": {
        "id": "pRSRsLHYdqvT",
        "colab_type": "code",
        "outputId": "49850bbd-68c7-4d4e-9fac-6bd3a3e66f45",
        "colab": {
          "base_uri": "https://localhost:8080/",
          "height": 308
        }
      },
      "source": [
        "f, (ax1, ax2) = plt.subplots(1, 2, figsize=(12, 4))\n",
        "t = f.suptitle('Basic CNN Performance', fontsize=12)\n",
        "f.subplots_adjust(top=0.85, wspace=0.3)\n",
        "\n",
        "epoch_list = list(range(len(history.history['loss'])))\n",
        "ax1.plot(epoch_list, history.history['accuracy'], label='Train Accuracy')\n",
        "ax1.plot(epoch_list, history.history['val_accuracy'], label='Validation Accuracy')\n",
        "ax1.set_ylabel('Accuracy Value')\n",
        "ax1.set_xlabel('Epoch')\n",
        "ax1.set_title('Accuracy')\n",
        "l1 = ax1.legend(loc=\"best\")\n",
        "\n",
        "ax2.plot(epoch_list, history.history['loss'], label='Train Loss')\n",
        "ax2.plot(epoch_list, history.history['val_loss'], label='Validation Loss')\n",
        "ax2.set_ylabel('Loss Value')\n",
        "ax2.set_xlabel('Epoch')\n",
        "ax2.set_title('Loss')\n",
        "l2 = ax2.legend(loc=\"best\")"
      ],
      "execution_count": 0,
      "outputs": [
        {
          "output_type": "display_data",
          "data": {
            "image/png": "[encoded data removed]",
            "text/plain": [
              "<Figure size 864x288 with 2 Axes>"
            ]
          },
          "metadata": {
            "tags": []
          }
        }
      ]
    },
    {
      "cell_type": "code",
      "metadata": {
        "id": "CN86-IG-478q",
        "colab_type": "code",
        "outputId": "f7305cc3-b3e1-4ff6-c0d6-630e2cac2f49",
        "colab": {
          "base_uri": "https://localhost:8080/",
          "height": 111
        }
      },
      "source": [
        "results_df.loc[len(results_df)] = ['Base CNN', np.mean(history.history['val_accuracy'][-4])]\n",
        "results_df"
      ],
      "execution_count": 0,
      "outputs": [
        {
          "output_type": "execute_result",
          "data": {
            "text/html": [
              "<div>\n",
              "<style scoped>\n",
              "    .dataframe tbody tr th:only-of-type {\n",
              "        vertical-align: middle;\n",
              "    }\n",
              "\n",
              "    .dataframe tbody tr th {\n",
              "        vertical-align: top;\n",
              "    }\n",
              "\n",
              "    .dataframe thead th {\n",
              "        text-align: right;\n",
              "    }\n",
              "</style>\n",
              "<table border=\"1\" class=\"dataframe\">\n",
              "  <thead>\n",
              "    <tr style=\"text-align: right;\">\n",
              "      <th></th>\n",
              "      <th>Approach</th>\n",
              "      <th>Accuracy</th>\n",
              "    </tr>\n",
              "  </thead>\n",
              "  <tbody>\n",
              "    <tr>\n",
              "      <th>0</th>\n",
              "      <td>Base Perceptron</td>\n",
              "      <td>0.899333</td>\n",
              "    </tr>\n",
              "    <tr>\n",
              "      <th>1</th>\n",
              "      <td>Base CNN</td>\n",
              "      <td>0.893222</td>\n",
              "    </tr>\n",
              "  </tbody>\n",
              "</table>\n",
              "</div>"
            ],
            "text/plain": [
              "          Approach  Accuracy\n",
              "0  Base Perceptron  0.899333\n",
              "1         Base CNN  0.893222"
            ]
          },
          "metadata": {
            "tags": []
          },
          "execution_count": 60
        }
      ]
    },
    {
      "cell_type": "markdown",
      "metadata": {
        "id": "PKXeRCQ1fJIL",
        "colab_type": "text"
      },
      "source": [
        "#### 2.2.3 – CNN with Regularization"
      ]
    },
    {
      "cell_type": "markdown",
      "metadata": {
        "id": "KnWGGXMG3JHL",
        "colab_type": "text"
      },
      "source": [
        "##### 2.2.3.1 – Set up and compile model"
      ]
    },
    {
      "cell_type": "code",
      "metadata": {
        "id": "0TuyA_0Mnywn",
        "colab_type": "code",
        "colab": {}
      },
      "source": [
        "batch_size = 6000\n",
        "num_classes = 10\n",
        "epochs = 1000\n",
        "input_shape = (28, 28, 1)\n",
        "es = EarlyStopping(patience=3, restore_best_weights=True)"
      ],
      "execution_count": 0,
      "outputs": []
    },
    {
      "cell_type": "code",
      "metadata": {
        "id": "GPuFNwZ7fQQy",
        "colab_type": "code",
        "outputId": "12508791-6b1c-4214-8f0b-853ae8aa5665",
        "colab": {
          "base_uri": "https://localhost:8080/",
          "height": 663
        }
      },
      "source": [
        "model_cnn2 = Sequential()\n",
        "\n",
        "model_cnn2.add(Conv2D(32, kernel_size=(3, 3), use_bias=False,\n",
        "                 input_shape=(input_shape)))\n",
        "model_cnn2.add(tf.keras.layers.BatchNormalization(axis=-1))\n",
        "model_cnn2.add(tf.keras.layers.Activation(\"relu\"))\n",
        "\n",
        "model_cnn2.add(Conv2D(32, kernel_size=(3, 3), activation='relu'))\n",
        "model_cnn2.add(MaxPooling2D(pool_size=(2, 2)))\n",
        "\n",
        "model_cnn2.add(Conv2D(64, kernel_size=(3, 3), activation='relu'))\n",
        "model_cnn2.add(MaxPooling2D(pool_size=(2, 2)))\n",
        "\n",
        "model_cnn2.add(Flatten())\n",
        "\n",
        "model_cnn2.add(Dense(512, activation='relu'))\n",
        "model_cnn2.add(Dropout(0.4))\n",
        "\n",
        "model_cnn2.add(Dense(100, activation='relu'))\n",
        "model_cnn2.add(Dropout(0.2))\n",
        "\n",
        "model_cnn2.add(Dense(100, activation='relu'))\n",
        "model_cnn2.add(Dropout(0.2))\n",
        "\n",
        "model_cnn2.add(Dense(10, activation='softmax'))\n",
        "\n",
        "\n",
        "model_cnn2.compile(loss='sparse_categorical_crossentropy',\n",
        "              optimizer=optimizers.Adam(),\n",
        "              metrics=['accuracy'])\n",
        "\n",
        "model_cnn2.summary()"
      ],
      "execution_count": 0,
      "outputs": [
        {
          "output_type": "stream",
          "text": [
            "Model: \"sequential_8\"\n",
            "_________________________________________________________________\n",
            "Layer (type)                 Output Shape              Param #   \n",
            "=================================================================\n",
            "conv2d_14 (Conv2D)           (None, 26, 26, 32)        288       \n",
            "_________________________________________________________________\n",
            "batch_normalization_6 (Batch (None, 26, 26, 32)        128       \n",
            "_________________________________________________________________\n",
            "activation_1 (Activation)    (None, 26, 26, 32)        0         \n",
            "_________________________________________________________________\n",
            "conv2d_15 (Conv2D)           (None, 24, 24, 32)        9248      \n",
            "_________________________________________________________________\n",
            "max_pooling2d_8 (MaxPooling2 (None, 12, 12, 32)        0         \n",
            "_________________________________________________________________\n",
            "conv2d_16 (Conv2D)           (None, 10, 10, 64)        18496     \n",
            "_________________________________________________________________\n",
            "max_pooling2d_9 (MaxPooling2 (None, 5, 5, 64)          0         \n",
            "_________________________________________________________________\n",
            "flatten_6 (Flatten)          (None, 1600)              0         \n",
            "_________________________________________________________________\n",
            "dense_19 (Dense)             (None, 512)               819712    \n",
            "_________________________________________________________________\n",
            "dropout_5 (Dropout)          (None, 512)               0         \n",
            "_________________________________________________________________\n",
            "dense_20 (Dense)             (None, 100)               51300     \n",
            "_________________________________________________________________\n",
            "dropout_6 (Dropout)          (None, 100)               0         \n",
            "_________________________________________________________________\n",
            "dense_21 (Dense)             (None, 100)               10100     \n",
            "_________________________________________________________________\n",
            "dropout_7 (Dropout)          (None, 100)               0         \n",
            "_________________________________________________________________\n",
            "dense_22 (Dense)             (None, 10)                1010      \n",
            "=================================================================\n",
            "Total params: 910,282\n",
            "Trainable params: 910,218\n",
            "Non-trainable params: 64\n",
            "_________________________________________________________________\n"
          ],
          "name": "stdout"
        }
      ]
    },
    {
      "cell_type": "markdown",
      "metadata": {
        "id": "q38Y3D8y3OyR",
        "colab_type": "text"
      },
      "source": [
        "##### 2.2.3.2 – Train the model"
      ]
    },
    {
      "cell_type": "code",
      "metadata": {
        "id": "zEH2_C7bn80Q",
        "colab_type": "code",
        "outputId": "3931d0f0-c18d-4145-8a3d-c40b5f5b0f90",
        "colab": {
          "base_uri": "https://localhost:8080/",
          "height": 391
        }
      },
      "source": [
        "np.random.seed(123)\n",
        "history = model_cnn2.fit(x=train_imgs, y=train_labels,\n",
        "                         epochs=epochs,\n",
        "                         callbacks = [es, tensorboard_callback],\n",
        "                        #  batch_size=batch_size,\n",
        "                         validation_split=0.3,\n",
        "                         verbose = 1)"
      ],
      "execution_count": 0,
      "outputs": [
        {
          "output_type": "stream",
          "text": [
            "Epoch 1/1000\n",
            "1313/1313 [==============================] - 50s 38ms/step - loss: 0.5585 - accuracy: 0.7996 - val_loss: 0.3432 - val_accuracy: 0.8728\n",
            "Epoch 2/1000\n",
            "1313/1313 [==============================] - 49s 37ms/step - loss: 0.3458 - accuracy: 0.8760 - val_loss: 0.3314 - val_accuracy: 0.8753\n",
            "Epoch 3/1000\n",
            "1313/1313 [==============================] - 49s 37ms/step - loss: 0.2869 - accuracy: 0.8986 - val_loss: 0.2867 - val_accuracy: 0.8876\n",
            "Epoch 4/1000\n",
            "1313/1313 [==============================] - 50s 38ms/step - loss: 0.2597 - accuracy: 0.9073 - val_loss: 0.2861 - val_accuracy: 0.8914\n",
            "Epoch 5/1000\n",
            "1313/1313 [==============================] - 51s 39ms/step - loss: 0.2385 - accuracy: 0.9156 - val_loss: 0.2582 - val_accuracy: 0.9026\n",
            "Epoch 6/1000\n",
            "1313/1313 [==============================] - 51s 39ms/step - loss: 0.2125 - accuracy: 0.9247 - val_loss: 0.2593 - val_accuracy: 0.9077\n",
            "Epoch 7/1000\n",
            "1313/1313 [==============================] - 51s 39ms/step - loss: 0.1906 - accuracy: 0.9319 - val_loss: 0.2406 - val_accuracy: 0.9153\n",
            "Epoch 8/1000\n",
            "1313/1313 [==============================] - 50s 38ms/step - loss: 0.1786 - accuracy: 0.9343 - val_loss: 0.2390 - val_accuracy: 0.9164\n",
            "Epoch 9/1000\n",
            "1313/1313 [==============================] - 51s 39ms/step - loss: 0.1648 - accuracy: 0.9415 - val_loss: 0.2628 - val_accuracy: 0.9147\n",
            "Epoch 10/1000\n",
            "1313/1313 [==============================] - 51s 39ms/step - loss: 0.1552 - accuracy: 0.9454 - val_loss: 0.2503 - val_accuracy: 0.9156\n",
            "Epoch 11/1000\n",
            "1313/1313 [==============================] - 51s 39ms/step - loss: 0.1413 - accuracy: 0.9481 - val_loss: 0.2796 - val_accuracy: 0.9137\n"
          ],
          "name": "stdout"
        }
      ]
    },
    {
      "cell_type": "markdown",
      "metadata": {
        "id": "qbwyqddP3S8C",
        "colab_type": "text"
      },
      "source": [
        "##### 2.2.3.3 – Results"
      ]
    },
    {
      "cell_type": "code",
      "metadata": {
        "id": "eSGNS75TofCX",
        "colab_type": "code",
        "outputId": "dd3cd6b8-8d6b-42cd-ab53-8b763dc2a0b0",
        "colab": {
          "base_uri": "https://localhost:8080/",
          "height": 34
        }
      },
      "source": [
        "print('The average accuracy for the last 3 epochs is: %.4f.' % np.mean(history.history['val_accuracy'][-3:]))"
      ],
      "execution_count": 0,
      "outputs": [
        {
          "output_type": "stream",
          "text": [
            "The average accuracy for the last 3 epochs is: 0.9147.\n"
          ],
          "name": "stdout"
        }
      ]
    },
    {
      "cell_type": "code",
      "metadata": {
        "id": "W2yGy8kZgmHr",
        "colab_type": "code",
        "outputId": "30d6644b-8010-4d22-e66c-170d3c058880",
        "colab": {
          "base_uri": "https://localhost:8080/",
          "height": 308
        }
      },
      "source": [
        "f, (ax1, ax2) = plt.subplots(1, 2, figsize=(12, 4))\n",
        "t = f.suptitle('Regularized CNN Performance', fontsize=12)\n",
        "f.subplots_adjust(top=0.85, wspace=0.3)\n",
        "\n",
        "epoch_list = list(range(len(history.history['loss'])))\n",
        "ax1.plot(epoch_list, history.history['accuracy'], label='Train Accuracy')\n",
        "ax1.plot(epoch_list, history.history['val_accuracy'], label='Validation Accuracy')\n",
        "ax1.set_ylabel('Accuracy Value')\n",
        "ax1.set_xlabel('Epoch')\n",
        "ax1.set_title('Accuracy')\n",
        "l1 = ax1.legend(loc=\"best\")\n",
        "\n",
        "ax2.plot(epoch_list, history.history['loss'], label='Train Loss')\n",
        "ax2.plot(epoch_list, history.history['val_loss'], label='Validation Loss')\n",
        "ax2.set_ylabel('Loss Value')\n",
        "ax2.set_xlabel('Epoch')\n",
        "ax2.set_title('Loss')\n",
        "l2 = ax2.legend(loc=\"best\")"
      ],
      "execution_count": 0,
      "outputs": [
        {
          "output_type": "display_data",
          "data": {
            "image/png": "[encoded data removed]",
            "text/plain": [
              "<Figure size 864x288 with 2 Axes>"
            ]
          },
          "metadata": {
            "tags": []
          }
        }
      ]
    },
    {
      "cell_type": "code",
      "metadata": {
        "id": "bJehH8ec5Ab_",
        "colab_type": "code",
        "outputId": "3093794c-d9e1-4037-af54-ee10cadea63a",
        "colab": {
          "base_uri": "https://localhost:8080/",
          "height": 142
        }
      },
      "source": [
        "results_df.loc[len(results_df)] = ['Regularized CNN', np.mean(history.history['val_accuracy'][-4])]\n",
        "results_df"
      ],
      "execution_count": 0,
      "outputs": [
        {
          "output_type": "execute_result",
          "data": {
            "text/html": [
              "<div>\n",
              "<style scoped>\n",
              "    .dataframe tbody tr th:only-of-type {\n",
              "        vertical-align: middle;\n",
              "    }\n",
              "\n",
              "    .dataframe tbody tr th {\n",
              "        vertical-align: top;\n",
              "    }\n",
              "\n",
              "    .dataframe thead th {\n",
              "        text-align: right;\n",
              "    }\n",
              "</style>\n",
              "<table border=\"1\" class=\"dataframe\">\n",
              "  <thead>\n",
              "    <tr style=\"text-align: right;\">\n",
              "      <th></th>\n",
              "      <th>Approach</th>\n",
              "      <th>Accuracy</th>\n",
              "    </tr>\n",
              "  </thead>\n",
              "  <tbody>\n",
              "    <tr>\n",
              "      <th>0</th>\n",
              "      <td>Base Perceptron</td>\n",
              "      <td>0.899333</td>\n",
              "    </tr>\n",
              "    <tr>\n",
              "      <th>1</th>\n",
              "      <td>Base CNN</td>\n",
              "      <td>0.893222</td>\n",
              "    </tr>\n",
              "    <tr>\n",
              "      <th>2</th>\n",
              "      <td>Regularized CNN</td>\n",
              "      <td>0.916389</td>\n",
              "    </tr>\n",
              "  </tbody>\n",
              "</table>\n",
              "</div>"
            ],
            "text/plain": [
              "          Approach  Accuracy\n",
              "0  Base Perceptron  0.899333\n",
              "1         Base CNN  0.893222\n",
              "2  Regularized CNN  0.916389"
            ]
          },
          "metadata": {
            "tags": []
          },
          "execution_count": 66
        }
      ]
    },
    {
      "cell_type": "markdown",
      "metadata": {
        "id": "w7GHquuDk17Q",
        "colab_type": "text"
      },
      "source": [
        "#### 2.2.4 – Pre-trained CNN model as Feature Exractor"
      ]
    },
    {
      "cell_type": "markdown",
      "metadata": {
        "id": "sLQD94cLOiTh",
        "colab_type": "text"
      },
      "source": [
        "##### 2.2.4.1 – Prepare data"
      ]
    },
    {
      "cell_type": "markdown",
      "metadata": {
        "id": "DIs6taU798Q9",
        "colab_type": "text"
      },
      "source": [
        "In order to feed our data into the pre-trained model, it must be replicated across the three color channels: RGB. This is done here:"
      ]
    },
    {
      "cell_type": "code",
      "metadata": {
        "id": "JflirUv8eRjg",
        "colab_type": "code",
        "colab": {}
      },
      "source": [
        "train_imgs_rgb = [np.dstack([a, a, a]) for a in train_images]\n",
        "train_imgs_rgb = [np.pad(a, ((2, 2), (2, 2), (0, 0)), mode='constant', constant_values=0) for a in train_imgs_rgb]\n",
        "train_imgs_rgb = np.array(train_imgs_rgb)\n",
        "\n",
        "test_imgs_rgb = [np.dstack([a, a, a]) for a in test_images]\n",
        "test_imgs_rgb = [np.pad(a, ((2, 2), (2, 2), (0, 0)), mode='constant', constant_values=0) for a in test_imgs_rgb]\n",
        "test_imgs_rgb = np.array(test_imgs_rgb)"
      ],
      "execution_count": 0,
      "outputs": []
    },
    {
      "cell_type": "markdown",
      "metadata": {
        "id": "hRm6nuln5Mlg",
        "colab_type": "text"
      },
      "source": [
        "##### 2.2.4.2 – Load and prepare pre-trained model"
      ]
    },
    {
      "cell_type": "code",
      "metadata": {
        "id": "AMlIGoc1Rn-_",
        "colab_type": "code",
        "outputId": "885d279e-fb5d-427a-f029-a5dc4a22c5fb",
        "colab": {
          "base_uri": "https://localhost:8080/",
          "height": 757
        }
      },
      "source": [
        "input_shape = (32,32,3)\n",
        "\n",
        "vgg = vgg16.VGG16(include_top=False, weights='imagenet',\n",
        "                  input_shape=input_shape)\n",
        "\n",
        "output = vgg.layers[-1].output\n",
        "output = tf.keras.layers.Flatten()(output)\n",
        "vgg_model = Model(vgg.input, output)\n",
        "\n",
        "vgg_model.trainable = False\n",
        "for layer in vgg_model.layers:\n",
        "    layer.trainable = False\n",
        "    \n",
        "pd.set_option('max_colwidth', -1)\n",
        "layers = [(layer, layer.name, layer.trainable) for layer in vgg_model.layers]\n",
        "pd.DataFrame(layers, columns=['Layer Type', 'Layer Name', 'Layer Trainable'])    "
      ],
      "execution_count": 0,
      "outputs": [
        {
          "output_type": "stream",
          "text": [
            "Downloading data from https://storage.googleapis.com/tensorflow/keras-applications/vgg16/vgg16_weights_tf_dim_ordering_tf_kernels_notop.h5\n",
            "58892288/58889256 [==============================] - 0s 0us/step\n"
          ],
          "name": "stdout"
        },
        {
          "output_type": "stream",
          "text": [
            "/usr/local/lib/python3.6/dist-packages/ipykernel_launcher.py:14: FutureWarning: Passing a negative integer is deprecated in version 1.0 and will not be supported in future version. Instead, use None to not limit the column width.\n",
            "  \n"
          ],
          "name": "stderr"
        },
        {
          "output_type": "execute_result",
          "data": {
            "text/html": [
              "<div>\n",
              "<style scoped>\n",
              "    .dataframe tbody tr th:only-of-type {\n",
              "        vertical-align: middle;\n",
              "    }\n",
              "\n",
              "    .dataframe tbody tr th {\n",
              "        vertical-align: top;\n",
              "    }\n",
              "\n",
              "    .dataframe thead th {\n",
              "        text-align: right;\n",
              "    }\n",
              "</style>\n",
              "<table border=\"1\" class=\"dataframe\">\n",
              "  <thead>\n",
              "    <tr style=\"text-align: right;\">\n",
              "      <th></th>\n",
              "      <th>Layer Type</th>\n",
              "      <th>Layer Name</th>\n",
              "      <th>Layer Trainable</th>\n",
              "    </tr>\n",
              "  </thead>\n",
              "  <tbody>\n",
              "    <tr>\n",
              "      <th>0</th>\n",
              "      <td>&lt;tensorflow.python.keras.engine.input_layer.InputLayer object at 0x7f976eb676a0&gt;</td>\n",
              "      <td>input_1</td>\n",
              "      <td>False</td>\n",
              "    </tr>\n",
              "    <tr>\n",
              "      <th>1</th>\n",
              "      <td>&lt;tensorflow.python.keras.layers.convolutional.Conv2D object at 0x7f976eb67400&gt;</td>\n",
              "      <td>block1_conv1</td>\n",
              "      <td>False</td>\n",
              "    </tr>\n",
              "    <tr>\n",
              "      <th>2</th>\n",
              "      <td>&lt;tensorflow.python.keras.layers.convolutional.Conv2D object at 0x7f9747f947f0&gt;</td>\n",
              "      <td>block1_conv2</td>\n",
              "      <td>False</td>\n",
              "    </tr>\n",
              "    <tr>\n",
              "      <th>3</th>\n",
              "      <td>&lt;tensorflow.python.keras.layers.pooling.MaxPooling2D object at 0x7f9747fb41d0&gt;</td>\n",
              "      <td>block1_pool</td>\n",
              "      <td>False</td>\n",
              "    </tr>\n",
              "    <tr>\n",
              "      <th>4</th>\n",
              "      <td>&lt;tensorflow.python.keras.layers.convolutional.Conv2D object at 0x7f974879cc18&gt;</td>\n",
              "      <td>block2_conv1</td>\n",
              "      <td>False</td>\n",
              "    </tr>\n",
              "    <tr>\n",
              "      <th>5</th>\n",
              "      <td>&lt;tensorflow.python.keras.layers.convolutional.Conv2D object at 0x7f97487a75f8&gt;</td>\n",
              "      <td>block2_conv2</td>\n",
              "      <td>False</td>\n",
              "    </tr>\n",
              "    <tr>\n",
              "      <th>6</th>\n",
              "      <td>&lt;tensorflow.python.keras.layers.pooling.MaxPooling2D object at 0x7f97487ad668&gt;</td>\n",
              "      <td>block2_pool</td>\n",
              "      <td>False</td>\n",
              "    </tr>\n",
              "    <tr>\n",
              "      <th>7</th>\n",
              "      <td>&lt;tensorflow.python.keras.layers.convolutional.Conv2D object at 0x7f97487badd8&gt;</td>\n",
              "      <td>block3_conv1</td>\n",
              "      <td>False</td>\n",
              "    </tr>\n",
              "    <tr>\n",
              "      <th>8</th>\n",
              "      <td>&lt;tensorflow.python.keras.layers.convolutional.Conv2D object at 0x7f97482ee940&gt;</td>\n",
              "      <td>block3_conv2</td>\n",
              "      <td>False</td>\n",
              "    </tr>\n",
              "    <tr>\n",
              "      <th>9</th>\n",
              "      <td>&lt;tensorflow.python.keras.layers.convolutional.Conv2D object at 0x7f97482fdb00&gt;</td>\n",
              "      <td>block3_conv3</td>\n",
              "      <td>False</td>\n",
              "    </tr>\n",
              "    <tr>\n",
              "      <th>10</th>\n",
              "      <td>&lt;tensorflow.python.keras.layers.pooling.MaxPooling2D object at 0x7f97482cda20&gt;</td>\n",
              "      <td>block3_pool</td>\n",
              "      <td>False</td>\n",
              "    </tr>\n",
              "    <tr>\n",
              "      <th>11</th>\n",
              "      <td>&lt;tensorflow.python.keras.layers.convolutional.Conv2D object at 0x7f97482cd898&gt;</td>\n",
              "      <td>block4_conv1</td>\n",
              "      <td>False</td>\n",
              "    </tr>\n",
              "    <tr>\n",
              "      <th>12</th>\n",
              "      <td>&lt;tensorflow.python.keras.layers.convolutional.Conv2D object at 0x7f97482d3be0&gt;</td>\n",
              "      <td>block4_conv2</td>\n",
              "      <td>False</td>\n",
              "    </tr>\n",
              "    <tr>\n",
              "      <th>13</th>\n",
              "      <td>&lt;tensorflow.python.keras.layers.convolutional.Conv2D object at 0x7f97482dc320&gt;</td>\n",
              "      <td>block4_conv3</td>\n",
              "      <td>False</td>\n",
              "    </tr>\n",
              "    <tr>\n",
              "      <th>14</th>\n",
              "      <td>&lt;tensorflow.python.keras.layers.pooling.MaxPooling2D object at 0x7f97482e0278&gt;</td>\n",
              "      <td>block4_pool</td>\n",
              "      <td>False</td>\n",
              "    </tr>\n",
              "    <tr>\n",
              "      <th>15</th>\n",
              "      <td>&lt;tensorflow.python.keras.layers.convolutional.Conv2D object at 0x7f97482e0b38&gt;</td>\n",
              "      <td>block5_conv1</td>\n",
              "      <td>False</td>\n",
              "    </tr>\n",
              "    <tr>\n",
              "      <th>16</th>\n",
              "      <td>&lt;tensorflow.python.keras.layers.convolutional.Conv2D object at 0x7f97482e5e48&gt;</td>\n",
              "      <td>block5_conv2</td>\n",
              "      <td>False</td>\n",
              "    </tr>\n",
              "    <tr>\n",
              "      <th>17</th>\n",
              "      <td>&lt;tensorflow.python.keras.layers.convolutional.Conv2D object at 0x7f974829a400&gt;</td>\n",
              "      <td>block5_conv3</td>\n",
              "      <td>False</td>\n",
              "    </tr>\n",
              "    <tr>\n",
              "      <th>18</th>\n",
              "      <td>&lt;tensorflow.python.keras.layers.pooling.MaxPooling2D object at 0x7f974829f438&gt;</td>\n",
              "      <td>block5_pool</td>\n",
              "      <td>False</td>\n",
              "    </tr>\n",
              "    <tr>\n",
              "      <th>19</th>\n",
              "      <td>&lt;tensorflow.python.keras.layers.core.Flatten object at 0x7f97482ad748&gt;</td>\n",
              "      <td>flatten_7</td>\n",
              "      <td>False</td>\n",
              "    </tr>\n",
              "  </tbody>\n",
              "</table>\n",
              "</div>"
            ],
            "text/plain": [
              "                                                                          Layer Type  ... Layer Trainable\n",
              "0   <tensorflow.python.keras.engine.input_layer.InputLayer object at 0x7f976eb676a0>  ...  False         \n",
              "1   <tensorflow.python.keras.layers.convolutional.Conv2D object at 0x7f976eb67400>    ...  False         \n",
              "2   <tensorflow.python.keras.layers.convolutional.Conv2D object at 0x7f9747f947f0>    ...  False         \n",
              "3   <tensorflow.python.keras.layers.pooling.MaxPooling2D object at 0x7f9747fb41d0>    ...  False         \n",
              "4   <tensorflow.python.keras.layers.convolutional.Conv2D object at 0x7f974879cc18>    ...  False         \n",
              "5   <tensorflow.python.keras.layers.convolutional.Conv2D object at 0x7f97487a75f8>    ...  False         \n",
              "6   <tensorflow.python.keras.layers.pooling.MaxPooling2D object at 0x7f97487ad668>    ...  False         \n",
              "7   <tensorflow.python.keras.layers.convolutional.Conv2D object at 0x7f97487badd8>    ...  False         \n",
              "8   <tensorflow.python.keras.layers.convolutional.Conv2D object at 0x7f97482ee940>    ...  False         \n",
              "9   <tensorflow.python.keras.layers.convolutional.Conv2D object at 0x7f97482fdb00>    ...  False         \n",
              "10  <tensorflow.python.keras.layers.pooling.MaxPooling2D object at 0x7f97482cda20>    ...  False         \n",
              "11  <tensorflow.python.keras.layers.convolutional.Conv2D object at 0x7f97482cd898>    ...  False         \n",
              "12  <tensorflow.python.keras.layers.convolutional.Conv2D object at 0x7f97482d3be0>    ...  False         \n",
              "13  <tensorflow.python.keras.layers.convolutional.Conv2D object at 0x7f97482dc320>    ...  False         \n",
              "14  <tensorflow.python.keras.layers.pooling.MaxPooling2D object at 0x7f97482e0278>    ...  False         \n",
              "15  <tensorflow.python.keras.layers.convolutional.Conv2D object at 0x7f97482e0b38>    ...  False         \n",
              "16  <tensorflow.python.keras.layers.convolutional.Conv2D object at 0x7f97482e5e48>    ...  False         \n",
              "17  <tensorflow.python.keras.layers.convolutional.Conv2D object at 0x7f974829a400>    ...  False         \n",
              "18  <tensorflow.python.keras.layers.pooling.MaxPooling2D object at 0x7f974829f438>    ...  False         \n",
              "19  <tensorflow.python.keras.layers.core.Flatten object at 0x7f97482ad748>            ...  False         \n",
              "\n",
              "[20 rows x 3 columns]"
            ]
          },
          "metadata": {
            "tags": []
          },
          "execution_count": 68
        }
      ]
    },
    {
      "cell_type": "markdown",
      "metadata": {
        "id": "IHZukL8D7RpF",
        "colab_type": "text"
      },
      "source": [
        "##### 2.2.4.3 – Get relevant features"
      ]
    },
    {
      "cell_type": "code",
      "metadata": {
        "id": "bF_j2gjVieuO",
        "colab_type": "code",
        "outputId": "c74b9c63-d1cd-46a9-ccab-66868b120ae9",
        "colab": {
          "base_uri": "https://localhost:8080/",
          "height": 34
        }
      },
      "source": [
        "def get_bottleneck_features(model, input_imgs):\n",
        "    features = model.predict(input_imgs, verbose=0)\n",
        "    return features\n",
        "    \n",
        "train_features_vgg = get_bottleneck_features(vgg_model, train_imgs_rgb)\n",
        "validation_features_vgg = get_bottleneck_features(vgg_model, test_imgs_rgb)\n",
        "\n",
        "print('Train Bottleneck Features:', train_features_vgg.shape, \n",
        "      '\\tValidation Bottleneck Features:', validation_features_vgg.shape)"
      ],
      "execution_count": 0,
      "outputs": [
        {
          "output_type": "stream",
          "text": [
            "Train Bottleneck Features: (60000, 512) \tValidation Bottleneck Features: (10000, 512)\n"
          ],
          "name": "stdout"
        }
      ]
    },
    {
      "cell_type": "markdown",
      "metadata": {
        "id": "7IWh9P-L55DR",
        "colab_type": "text"
      },
      "source": [
        "##### 2.2.4.4 – Set up and compile model"
      ]
    },
    {
      "cell_type": "code",
      "metadata": {
        "id": "5lf8rlyiiemv",
        "colab_type": "code",
        "outputId": "865444f9-ae00-498d-cd64-585d10e6c250",
        "colab": {
          "base_uri": "https://localhost:8080/",
          "height": 459
        }
      },
      "source": [
        "es = EarlyStopping(patience = 3, restore_best_weights=True)\n",
        "\n",
        "input_shape = vgg_model.output_shape[1]\n",
        "\n",
        "model_cnn3 = Sequential()\n",
        "\n",
        "model_cnn3.add(InputLayer(input_shape=(input_shape,)))\n",
        "\n",
        "model_cnn3.add(Dense(512, activation='relu', input_dim=input_shape))\n",
        "model_cnn3.add(Dropout(0.3))\n",
        "\n",
        "model_cnn3.add(Dense(100, activation='relu'))\n",
        "model_cnn3.add(Dropout(0.2))\n",
        "\n",
        "model_cnn3.add(Dense(100, activation='relu'))\n",
        "model_cnn3.add(Dropout(0.2))\n",
        "\n",
        "model_cnn3.add(Dense(100, activation='relu'))\n",
        "model_cnn3.add(Dropout(0.2))\n",
        "\n",
        "model_cnn3.add(Dense(10, activation='softmax'))\n",
        "\n",
        "\n",
        "model_cnn3.compile(loss='sparse_categorical_crossentropy',\n",
        "              optimizer=optimizers.Adam(lr = 1e-4),\n",
        "              metrics=['accuracy'])\n",
        "\n",
        "model_cnn3.summary()"
      ],
      "execution_count": 0,
      "outputs": [
        {
          "output_type": "stream",
          "text": [
            "Model: \"sequential_9\"\n",
            "_________________________________________________________________\n",
            "Layer (type)                 Output Shape              Param #   \n",
            "=================================================================\n",
            "dense_23 (Dense)             (None, 512)               262656    \n",
            "_________________________________________________________________\n",
            "dropout_8 (Dropout)          (None, 512)               0         \n",
            "_________________________________________________________________\n",
            "dense_24 (Dense)             (None, 100)               51300     \n",
            "_________________________________________________________________\n",
            "dropout_9 (Dropout)          (None, 100)               0         \n",
            "_________________________________________________________________\n",
            "dense_25 (Dense)             (None, 100)               10100     \n",
            "_________________________________________________________________\n",
            "dropout_10 (Dropout)         (None, 100)               0         \n",
            "_________________________________________________________________\n",
            "dense_26 (Dense)             (None, 100)               10100     \n",
            "_________________________________________________________________\n",
            "dropout_11 (Dropout)         (None, 100)               0         \n",
            "_________________________________________________________________\n",
            "dense_27 (Dense)             (None, 10)                1010      \n",
            "=================================================================\n",
            "Total params: 335,166\n",
            "Trainable params: 335,166\n",
            "Non-trainable params: 0\n",
            "_________________________________________________________________\n"
          ],
          "name": "stdout"
        }
      ]
    },
    {
      "cell_type": "markdown",
      "metadata": {
        "id": "DpwHKspT_TEc",
        "colab_type": "text"
      },
      "source": [
        "Note: the learning rate has been reduced to avoid falling into local minima."
      ]
    },
    {
      "cell_type": "markdown",
      "metadata": {
        "id": "Vdw3EG-W6E-n",
        "colab_type": "text"
      },
      "source": [
        "##### 2.2.4.5 – Train the model"
      ]
    },
    {
      "cell_type": "code",
      "metadata": {
        "id": "Ik-z96f_jlJM",
        "colab_type": "code",
        "outputId": "9f33efe2-893f-4c0c-94ee-973aad65f732",
        "colab": {
          "base_uri": "https://localhost:8080/",
          "height": 935
        }
      },
      "source": [
        "np.random.seed(123)\n",
        "history = model_cnn3.fit(x=train_features_vgg, y=train_labels,\n",
        "                     validation_split = 0.3,\n",
        "                    #  batch_size=6000,\n",
        "                     epochs=1000,\n",
        "                     callbacks = [es, tensorboard_callback],                                                                            \n",
        "                     verbose=1)"
      ],
      "execution_count": 0,
      "outputs": [
        {
          "output_type": "stream",
          "text": [
            "Epoch 1/1000\n",
            "1313/1313 [==============================] - 38s 29ms/step - loss: 1.2004 - accuracy: 0.5639 - val_loss: 0.6263 - val_accuracy: 0.7702\n",
            "Epoch 2/1000\n",
            "1313/1313 [==============================] - 37s 28ms/step - loss: 0.6851 - accuracy: 0.7543 - val_loss: 0.5204 - val_accuracy: 0.8067\n",
            "Epoch 3/1000\n",
            "1313/1313 [==============================] - 37s 28ms/step - loss: 0.5839 - accuracy: 0.7933 - val_loss: 0.4765 - val_accuracy: 0.8226\n",
            "Epoch 4/1000\n",
            "1313/1313 [==============================] - 37s 28ms/step - loss: 0.5275 - accuracy: 0.8125 - val_loss: 0.4470 - val_accuracy: 0.8341\n",
            "Epoch 5/1000\n",
            "1313/1313 [==============================] - 37s 28ms/step - loss: 0.4939 - accuracy: 0.8234 - val_loss: 0.4240 - val_accuracy: 0.8421\n",
            "Epoch 6/1000\n",
            "1313/1313 [==============================] - 37s 28ms/step - loss: 0.4682 - accuracy: 0.8342 - val_loss: 0.4159 - val_accuracy: 0.8480\n",
            "Epoch 7/1000\n",
            "1313/1313 [==============================] - 37s 28ms/step - loss: 0.4429 - accuracy: 0.8413 - val_loss: 0.3952 - val_accuracy: 0.8553\n",
            "Epoch 8/1000\n",
            "1313/1313 [==============================] - 37s 28ms/step - loss: 0.4255 - accuracy: 0.8469 - val_loss: 0.3889 - val_accuracy: 0.8583\n",
            "Epoch 9/1000\n",
            "1313/1313 [==============================] - 38s 29ms/step - loss: 0.4082 - accuracy: 0.8538 - val_loss: 0.3738 - val_accuracy: 0.8617\n",
            "Epoch 10/1000\n",
            "1313/1313 [==============================] - 37s 28ms/step - loss: 0.3973 - accuracy: 0.8578 - val_loss: 0.3765 - val_accuracy: 0.8609\n",
            "Epoch 11/1000\n",
            "1313/1313 [==============================] - 37s 28ms/step - loss: 0.3862 - accuracy: 0.8621 - val_loss: 0.3675 - val_accuracy: 0.8674\n",
            "Epoch 12/1000\n",
            "1313/1313 [==============================] - 37s 28ms/step - loss: 0.3716 - accuracy: 0.8659 - val_loss: 0.3636 - val_accuracy: 0.8689\n",
            "Epoch 13/1000\n",
            "1313/1313 [==============================] - 37s 28ms/step - loss: 0.3673 - accuracy: 0.8705 - val_loss: 0.3554 - val_accuracy: 0.8714\n",
            "Epoch 14/1000\n",
            "1313/1313 [==============================] - 37s 28ms/step - loss: 0.3547 - accuracy: 0.8727 - val_loss: 0.3541 - val_accuracy: 0.8709\n",
            "Epoch 15/1000\n",
            "1313/1313 [==============================] - 37s 28ms/step - loss: 0.3440 - accuracy: 0.8756 - val_loss: 0.3455 - val_accuracy: 0.8754\n",
            "Epoch 16/1000\n",
            "1313/1313 [==============================] - 37s 28ms/step - loss: 0.3377 - accuracy: 0.8767 - val_loss: 0.3461 - val_accuracy: 0.8748\n",
            "Epoch 17/1000\n",
            "1313/1313 [==============================] - 38s 29ms/step - loss: 0.3326 - accuracy: 0.8803 - val_loss: 0.3484 - val_accuracy: 0.8744\n",
            "Epoch 18/1000\n",
            "1313/1313 [==============================] - 38s 29ms/step - loss: 0.3247 - accuracy: 0.8825 - val_loss: 0.3375 - val_accuracy: 0.8778\n",
            "Epoch 19/1000\n",
            "1313/1313 [==============================] - 37s 28ms/step - loss: 0.3197 - accuracy: 0.8843 - val_loss: 0.3377 - val_accuracy: 0.8798\n",
            "Epoch 20/1000\n",
            "1313/1313 [==============================] - 37s 28ms/step - loss: 0.3127 - accuracy: 0.8878 - val_loss: 0.3433 - val_accuracy: 0.8797\n",
            "Epoch 21/1000\n",
            "1313/1313 [==============================] - 37s 28ms/step - loss: 0.3075 - accuracy: 0.8894 - val_loss: 0.3352 - val_accuracy: 0.8798\n",
            "Epoch 22/1000\n",
            "1313/1313 [==============================] - 37s 28ms/step - loss: 0.3034 - accuracy: 0.8900 - val_loss: 0.3375 - val_accuracy: 0.8811\n",
            "Epoch 23/1000\n",
            "1313/1313 [==============================] - 37s 28ms/step - loss: 0.2979 - accuracy: 0.8920 - val_loss: 0.3386 - val_accuracy: 0.8792\n",
            "Epoch 24/1000\n",
            "1313/1313 [==============================] - 37s 28ms/step - loss: 0.2914 - accuracy: 0.8948 - val_loss: 0.3271 - val_accuracy: 0.8837\n",
            "Epoch 25/1000\n",
            "1313/1313 [==============================] - 38s 29ms/step - loss: 0.2868 - accuracy: 0.8943 - val_loss: 0.3287 - val_accuracy: 0.8842\n",
            "Epoch 26/1000\n",
            "1313/1313 [==============================] - 37s 29ms/step - loss: 0.2811 - accuracy: 0.8989 - val_loss: 0.3324 - val_accuracy: 0.8834\n",
            "Epoch 27/1000\n",
            "1313/1313 [==============================] - 37s 28ms/step - loss: 0.2761 - accuracy: 0.8981 - val_loss: 0.3333 - val_accuracy: 0.8816\n"
          ],
          "name": "stdout"
        }
      ]
    },
    {
      "cell_type": "markdown",
      "metadata": {
        "id": "ZiY4eGJH6Kw5",
        "colab_type": "text"
      },
      "source": [
        "##### 2.2.4.6 – Results"
      ]
    },
    {
      "cell_type": "code",
      "metadata": {
        "id": "2eab5EoN6TRo",
        "colab_type": "code",
        "outputId": "e05aafa1-9ddf-4297-bab8-3e9bfcffd5d8",
        "colab": {
          "base_uri": "https://localhost:8080/",
          "height": 34
        }
      },
      "source": [
        "print('The average accuracy for the last 3 epochs is: %.4f.' % np.mean(history.history['val_accuracy'][-3:]))"
      ],
      "execution_count": 0,
      "outputs": [
        {
          "output_type": "stream",
          "text": [
            "The average accuracy for the last 3 epochs is: 0.8830.\n"
          ],
          "name": "stdout"
        }
      ]
    },
    {
      "cell_type": "code",
      "metadata": {
        "id": "Lzq9TqLklRY7",
        "colab_type": "code",
        "outputId": "6de6880c-7a0a-43cf-eb53-9ed1318feb5e",
        "colab": {
          "base_uri": "https://localhost:8080/",
          "height": 308
        }
      },
      "source": [
        "f, (ax1, ax2) = plt.subplots(1, 2, figsize=(12, 4))\n",
        "t = f.suptitle('Pre-trained CNN as feature extractor Performance', fontsize=12)\n",
        "f.subplots_adjust(top=0.85, wspace=0.3)\n",
        "\n",
        "epoch_list = list(range(len(history.history['loss'])))\n",
        "ax1.plot(epoch_list, history.history['accuracy'], label='Train Accuracy')\n",
        "ax1.plot(epoch_list, history.history['val_accuracy'], label='Validation Accuracy')\n",
        "ax1.set_ylabel('Accuracy Value')\n",
        "ax1.set_xlabel('Epoch')\n",
        "ax1.set_title('Accuracy')\n",
        "l1 = ax1.legend(loc=\"best\")\n",
        "\n",
        "ax2.plot(epoch_list, history.history['loss'], label='Train Loss')\n",
        "ax2.plot(epoch_list, history.history['val_loss'], label='Validation Loss')\n",
        "ax2.set_ylabel('Loss Value')\n",
        "ax2.set_xlabel('Epoch')\n",
        "ax2.set_title('Loss')\n",
        "l2 = ax2.legend(loc=\"best\")"
      ],
      "execution_count": 0,
      "outputs": [
        {
          "output_type": "display_data",
          "data": {
            "image/png": "[encoded data removed]",
            "text/plain": [
              "<Figure size 864x288 with 2 Axes>"
            ]
          },
          "metadata": {
            "tags": []
          }
        }
      ]
    },
    {
      "cell_type": "code",
      "metadata": {
        "id": "FFsgH58e6U0y",
        "colab_type": "code",
        "outputId": "8b381ec8-93d2-43e6-95af-6ab3cf9bdfa7",
        "colab": {
          "base_uri": "https://localhost:8080/",
          "height": 173
        }
      },
      "source": [
        "results_df.loc[len(results_df)] = ['Pre-trained CNN (feature extractor)', np.mean(history.history['val_accuracy'][-4])]\n",
        "results_df"
      ],
      "execution_count": 0,
      "outputs": [
        {
          "output_type": "execute_result",
          "data": {
            "text/html": [
              "<div>\n",
              "<style scoped>\n",
              "    .dataframe tbody tr th:only-of-type {\n",
              "        vertical-align: middle;\n",
              "    }\n",
              "\n",
              "    .dataframe tbody tr th {\n",
              "        vertical-align: top;\n",
              "    }\n",
              "\n",
              "    .dataframe thead th {\n",
              "        text-align: right;\n",
              "    }\n",
              "</style>\n",
              "<table border=\"1\" class=\"dataframe\">\n",
              "  <thead>\n",
              "    <tr style=\"text-align: right;\">\n",
              "      <th></th>\n",
              "      <th>Approach</th>\n",
              "      <th>Accuracy</th>\n",
              "    </tr>\n",
              "  </thead>\n",
              "  <tbody>\n",
              "    <tr>\n",
              "      <th>0</th>\n",
              "      <td>Base Perceptron</td>\n",
              "      <td>0.899333</td>\n",
              "    </tr>\n",
              "    <tr>\n",
              "      <th>1</th>\n",
              "      <td>Base CNN</td>\n",
              "      <td>0.893222</td>\n",
              "    </tr>\n",
              "    <tr>\n",
              "      <th>2</th>\n",
              "      <td>Regularized CNN</td>\n",
              "      <td>0.916389</td>\n",
              "    </tr>\n",
              "    <tr>\n",
              "      <th>3</th>\n",
              "      <td>Pre-trained CNN (feature extractor)</td>\n",
              "      <td>0.883722</td>\n",
              "    </tr>\n",
              "  </tbody>\n",
              "</table>\n",
              "</div>"
            ],
            "text/plain": [
              "                              Approach  Accuracy\n",
              "0  Base Perceptron                      0.899333\n",
              "1  Base CNN                             0.893222\n",
              "2  Regularized CNN                      0.916389\n",
              "3  Pre-trained CNN (feature extractor)  0.883722"
            ]
          },
          "metadata": {
            "tags": []
          },
          "execution_count": 74
        }
      ]
    },
    {
      "cell_type": "markdown",
      "metadata": {
        "id": "X1bkIpDDkRET",
        "colab_type": "text"
      },
      "source": [
        "#### 2.2.5 – Pre-trained CNN model with Fine-tuning"
      ]
    },
    {
      "cell_type": "markdown",
      "metadata": {
        "id": "O3IVhY1X6hYR",
        "colab_type": "text"
      },
      "source": [
        "##### 2.2.5.1 – Prepare pre-trained model"
      ]
    },
    {
      "cell_type": "code",
      "metadata": {
        "id": "BQEPT-q_mtlT",
        "colab_type": "code",
        "outputId": "479b78ae-6243-4a65-f754-e39da6f859db",
        "colab": {
          "base_uri": "https://localhost:8080/",
          "height": 669
        }
      },
      "source": [
        "vgg_model.trainable = True\n",
        "\n",
        "set_trainable = False\n",
        "for layer in vgg_model.layers:\n",
        "    if layer.name in ['block5_conv1', 'block4_conv1']:\n",
        "        set_trainable = True\n",
        "    if set_trainable:\n",
        "        layer.trainable = True\n",
        "    else:\n",
        "        layer.trainable = False\n",
        "        \n",
        "layers = [(layer, layer.name, layer.trainable) for layer in vgg_model.layers]\n",
        "pd.DataFrame(layers, columns=['Layer Type', 'Layer Name', 'Layer Trainable'])  "
      ],
      "execution_count": 0,
      "outputs": [
        {
          "output_type": "execute_result",
          "data": {
            "text/html": [
              "<div>\n",
              "<style scoped>\n",
              "    .dataframe tbody tr th:only-of-type {\n",
              "        vertical-align: middle;\n",
              "    }\n",
              "\n",
              "    .dataframe tbody tr th {\n",
              "        vertical-align: top;\n",
              "    }\n",
              "\n",
              "    .dataframe thead th {\n",
              "        text-align: right;\n",
              "    }\n",
              "</style>\n",
              "<table border=\"1\" class=\"dataframe\">\n",
              "  <thead>\n",
              "    <tr style=\"text-align: right;\">\n",
              "      <th></th>\n",
              "      <th>Layer Type</th>\n",
              "      <th>Layer Name</th>\n",
              "      <th>Layer Trainable</th>\n",
              "    </tr>\n",
              "  </thead>\n",
              "  <tbody>\n",
              "    <tr>\n",
              "      <th>0</th>\n",
              "      <td>&lt;tensorflow.python.keras.engine.input_layer.InputLayer object at 0x7f976eb676a0&gt;</td>\n",
              "      <td>input_1</td>\n",
              "      <td>False</td>\n",
              "    </tr>\n",
              "    <tr>\n",
              "      <th>1</th>\n",
              "      <td>&lt;tensorflow.python.keras.layers.convolutional.Conv2D object at 0x7f976eb67400&gt;</td>\n",
              "      <td>block1_conv1</td>\n",
              "      <td>False</td>\n",
              "    </tr>\n",
              "    <tr>\n",
              "      <th>2</th>\n",
              "      <td>&lt;tensorflow.python.keras.layers.convolutional.Conv2D object at 0x7f9747f947f0&gt;</td>\n",
              "      <td>block1_conv2</td>\n",
              "      <td>False</td>\n",
              "    </tr>\n",
              "    <tr>\n",
              "      <th>3</th>\n",
              "      <td>&lt;tensorflow.python.keras.layers.pooling.MaxPooling2D object at 0x7f9747fb41d0&gt;</td>\n",
              "      <td>block1_pool</td>\n",
              "      <td>False</td>\n",
              "    </tr>\n",
              "    <tr>\n",
              "      <th>4</th>\n",
              "      <td>&lt;tensorflow.python.keras.layers.convolutional.Conv2D object at 0x7f974879cc18&gt;</td>\n",
              "      <td>block2_conv1</td>\n",
              "      <td>False</td>\n",
              "    </tr>\n",
              "    <tr>\n",
              "      <th>5</th>\n",
              "      <td>&lt;tensorflow.python.keras.layers.convolutional.Conv2D object at 0x7f97487a75f8&gt;</td>\n",
              "      <td>block2_conv2</td>\n",
              "      <td>False</td>\n",
              "    </tr>\n",
              "    <tr>\n",
              "      <th>6</th>\n",
              "      <td>&lt;tensorflow.python.keras.layers.pooling.MaxPooling2D object at 0x7f97487ad668&gt;</td>\n",
              "      <td>block2_pool</td>\n",
              "      <td>False</td>\n",
              "    </tr>\n",
              "    <tr>\n",
              "      <th>7</th>\n",
              "      <td>&lt;tensorflow.python.keras.layers.convolutional.Conv2D object at 0x7f97487badd8&gt;</td>\n",
              "      <td>block3_conv1</td>\n",
              "      <td>False</td>\n",
              "    </tr>\n",
              "    <tr>\n",
              "      <th>8</th>\n",
              "      <td>&lt;tensorflow.python.keras.layers.convolutional.Conv2D object at 0x7f97482ee940&gt;</td>\n",
              "      <td>block3_conv2</td>\n",
              "      <td>False</td>\n",
              "    </tr>\n",
              "    <tr>\n",
              "      <th>9</th>\n",
              "      <td>&lt;tensorflow.python.keras.layers.convolutional.Conv2D object at 0x7f97482fdb00&gt;</td>\n",
              "      <td>block3_conv3</td>\n",
              "      <td>False</td>\n",
              "    </tr>\n",
              "    <tr>\n",
              "      <th>10</th>\n",
              "      <td>&lt;tensorflow.python.keras.layers.pooling.MaxPooling2D object at 0x7f97482cda20&gt;</td>\n",
              "      <td>block3_pool</td>\n",
              "      <td>False</td>\n",
              "    </tr>\n",
              "    <tr>\n",
              "      <th>11</th>\n",
              "      <td>&lt;tensorflow.python.keras.layers.convolutional.Conv2D object at 0x7f97482cd898&gt;</td>\n",
              "      <td>block4_conv1</td>\n",
              "      <td>True</td>\n",
              "    </tr>\n",
              "    <tr>\n",
              "      <th>12</th>\n",
              "      <td>&lt;tensorflow.python.keras.layers.convolutional.Conv2D object at 0x7f97482d3be0&gt;</td>\n",
              "      <td>block4_conv2</td>\n",
              "      <td>True</td>\n",
              "    </tr>\n",
              "    <tr>\n",
              "      <th>13</th>\n",
              "      <td>&lt;tensorflow.python.keras.layers.convolutional.Conv2D object at 0x7f97482dc320&gt;</td>\n",
              "      <td>block4_conv3</td>\n",
              "      <td>True</td>\n",
              "    </tr>\n",
              "    <tr>\n",
              "      <th>14</th>\n",
              "      <td>&lt;tensorflow.python.keras.layers.pooling.MaxPooling2D object at 0x7f97482e0278&gt;</td>\n",
              "      <td>block4_pool</td>\n",
              "      <td>True</td>\n",
              "    </tr>\n",
              "    <tr>\n",
              "      <th>15</th>\n",
              "      <td>&lt;tensorflow.python.keras.layers.convolutional.Conv2D object at 0x7f97482e0b38&gt;</td>\n",
              "      <td>block5_conv1</td>\n",
              "      <td>True</td>\n",
              "    </tr>\n",
              "    <tr>\n",
              "      <th>16</th>\n",
              "      <td>&lt;tensorflow.python.keras.layers.convolutional.Conv2D object at 0x7f97482e5e48&gt;</td>\n",
              "      <td>block5_conv2</td>\n",
              "      <td>True</td>\n",
              "    </tr>\n",
              "    <tr>\n",
              "      <th>17</th>\n",
              "      <td>&lt;tensorflow.python.keras.layers.convolutional.Conv2D object at 0x7f974829a400&gt;</td>\n",
              "      <td>block5_conv3</td>\n",
              "      <td>True</td>\n",
              "    </tr>\n",
              "    <tr>\n",
              "      <th>18</th>\n",
              "      <td>&lt;tensorflow.python.keras.layers.pooling.MaxPooling2D object at 0x7f974829f438&gt;</td>\n",
              "      <td>block5_pool</td>\n",
              "      <td>True</td>\n",
              "    </tr>\n",
              "    <tr>\n",
              "      <th>19</th>\n",
              "      <td>&lt;tensorflow.python.keras.layers.core.Flatten object at 0x7f97482ad748&gt;</td>\n",
              "      <td>flatten_7</td>\n",
              "      <td>True</td>\n",
              "    </tr>\n",
              "  </tbody>\n",
              "</table>\n",
              "</div>"
            ],
            "text/plain": [
              "                                                                          Layer Type  ... Layer Trainable\n",
              "0   <tensorflow.python.keras.engine.input_layer.InputLayer object at 0x7f976eb676a0>  ...  False         \n",
              "1   <tensorflow.python.keras.layers.convolutional.Conv2D object at 0x7f976eb67400>    ...  False         \n",
              "2   <tensorflow.python.keras.layers.convolutional.Conv2D object at 0x7f9747f947f0>    ...  False         \n",
              "3   <tensorflow.python.keras.layers.pooling.MaxPooling2D object at 0x7f9747fb41d0>    ...  False         \n",
              "4   <tensorflow.python.keras.layers.convolutional.Conv2D object at 0x7f974879cc18>    ...  False         \n",
              "5   <tensorflow.python.keras.layers.convolutional.Conv2D object at 0x7f97487a75f8>    ...  False         \n",
              "6   <tensorflow.python.keras.layers.pooling.MaxPooling2D object at 0x7f97487ad668>    ...  False         \n",
              "7   <tensorflow.python.keras.layers.convolutional.Conv2D object at 0x7f97487badd8>    ...  False         \n",
              "8   <tensorflow.python.keras.layers.convolutional.Conv2D object at 0x7f97482ee940>    ...  False         \n",
              "9   <tensorflow.python.keras.layers.convolutional.Conv2D object at 0x7f97482fdb00>    ...  False         \n",
              "10  <tensorflow.python.keras.layers.pooling.MaxPooling2D object at 0x7f97482cda20>    ...  False         \n",
              "11  <tensorflow.python.keras.layers.convolutional.Conv2D object at 0x7f97482cd898>    ...  True          \n",
              "12  <tensorflow.python.keras.layers.convolutional.Conv2D object at 0x7f97482d3be0>    ...  True          \n",
              "13  <tensorflow.python.keras.layers.convolutional.Conv2D object at 0x7f97482dc320>    ...  True          \n",
              "14  <tensorflow.python.keras.layers.pooling.MaxPooling2D object at 0x7f97482e0278>    ...  True          \n",
              "15  <tensorflow.python.keras.layers.convolutional.Conv2D object at 0x7f97482e0b38>    ...  True          \n",
              "16  <tensorflow.python.keras.layers.convolutional.Conv2D object at 0x7f97482e5e48>    ...  True          \n",
              "17  <tensorflow.python.keras.layers.convolutional.Conv2D object at 0x7f974829a400>    ...  True          \n",
              "18  <tensorflow.python.keras.layers.pooling.MaxPooling2D object at 0x7f974829f438>    ...  True          \n",
              "19  <tensorflow.python.keras.layers.core.Flatten object at 0x7f97482ad748>            ...  True          \n",
              "\n",
              "[20 rows x 3 columns]"
            ]
          },
          "metadata": {
            "tags": []
          },
          "execution_count": 75
        }
      ]
    },
    {
      "cell_type": "markdown",
      "metadata": {
        "id": "KlA-VlRa6pi-",
        "colab_type": "text"
      },
      "source": [
        "##### 2.2.5.2 – Set up and compile model"
      ]
    },
    {
      "cell_type": "code",
      "metadata": {
        "id": "2kvcRVC9mtgo",
        "colab_type": "code",
        "outputId": "974a17b8-0843-460c-ea4e-3701637e7cc2",
        "colab": {
          "base_uri": "https://localhost:8080/",
          "height": 425
        }
      },
      "source": [
        "model_cnn4 = Sequential()\n",
        "model_cnn4.add(vgg_model)\n",
        "\n",
        "model_cnn4.add(Dense(128, activation='relu'))\n",
        "model_cnn4.add(Dropout(0.2))\n",
        "\n",
        "model_cnn4.add(Dense(100, activation='relu'))\n",
        "model_cnn4.add(Dropout(0.2))\n",
        "\n",
        "model_cnn4.add(Dense(100, activation='relu'))\n",
        "model_cnn4.add(Dropout(0.2))\n",
        "\n",
        "model_cnn4.add(Dense(10, activation='softmax'))\n",
        "\n",
        "\n",
        "model_cnn4.compile(loss='sparse_categorical_crossentropy',\n",
        "              optimizer=optimizers.RMSprop(lr=1e-4),\n",
        "              metrics=['accuracy'])\n",
        "\n",
        "model_cnn4.summary()"
      ],
      "execution_count": 0,
      "outputs": [
        {
          "output_type": "stream",
          "text": [
            "Model: \"sequential_10\"\n",
            "_________________________________________________________________\n",
            "Layer (type)                 Output Shape              Param #   \n",
            "=================================================================\n",
            "model (Model)                (None, 512)               14714688  \n",
            "_________________________________________________________________\n",
            "dense_28 (Dense)             (None, 128)               65664     \n",
            "_________________________________________________________________\n",
            "dropout_12 (Dropout)         (None, 128)               0         \n",
            "_________________________________________________________________\n",
            "dense_29 (Dense)             (None, 100)               12900     \n",
            "_________________________________________________________________\n",
            "dropout_13 (Dropout)         (None, 100)               0         \n",
            "_________________________________________________________________\n",
            "dense_30 (Dense)             (None, 100)               10100     \n",
            "_________________________________________________________________\n",
            "dropout_14 (Dropout)         (None, 100)               0         \n",
            "_________________________________________________________________\n",
            "dense_31 (Dense)             (None, 10)                1010      \n",
            "=================================================================\n",
            "Total params: 14,804,362\n",
            "Trainable params: 13,068,874\n",
            "Non-trainable params: 1,735,488\n",
            "_________________________________________________________________\n"
          ],
          "name": "stdout"
        }
      ]
    },
    {
      "cell_type": "markdown",
      "metadata": {
        "id": "7uVEKPOV6thg",
        "colab_type": "text"
      },
      "source": [
        "##### 2.2.5.2 – Train the model"
      ]
    },
    {
      "cell_type": "code",
      "metadata": {
        "id": "MxeYySLQoVPp",
        "colab_type": "code",
        "outputId": "1d299f7d-9832-44c4-8c80-e0af0f33f215",
        "colab": {
          "base_uri": "https://localhost:8080/",
          "height": 153
        }
      },
      "source": [
        "np.random.seed(123)\n",
        "history = model_cnn4.fit(x=train_imgs_rgb, y=train_labels,\n",
        "                         validation_split = 0.3,\n",
        "                        #  batch_size=6000,\n",
        "                         epochs=1000,\n",
        "                         callbacks = [EarlyStopping(patience = 3, restore_best_weights=True), tensorboard_callback],\n",
        "                         verbose=1)"
      ],
      "execution_count": 0,
      "outputs": [
        {
          "output_type": "stream",
          "text": [
            "Epoch 1/1000\n",
            "1313/1313 [==============================] - 151s 115ms/step - loss: 0.6160 - accuracy: 0.8000 - val_loss: 0.3739 - val_accuracy: 0.8797\n",
            "Epoch 2/1000\n",
            "1313/1313 [==============================] - 149s 114ms/step - loss: 0.4170 - accuracy: 0.8711 - val_loss: 0.4285 - val_accuracy: 0.8827\n",
            "Epoch 3/1000\n",
            "1313/1313 [==============================] - 148s 113ms/step - loss: 0.4115 - accuracy: 0.8752 - val_loss: 0.4584 - val_accuracy: 0.8570\n",
            "Epoch 4/1000\n",
            "1313/1313 [==============================] - 148s 112ms/step - loss: 0.4117 - accuracy: 0.8785 - val_loss: 0.4786 - val_accuracy: 0.8836\n"
          ],
          "name": "stdout"
        }
      ]
    },
    {
      "cell_type": "markdown",
      "metadata": {
        "id": "1kuJ9dPt6wrV",
        "colab_type": "text"
      },
      "source": [
        "##### 2.2.5.3 – Results"
      ]
    },
    {
      "cell_type": "code",
      "metadata": {
        "id": "uxMGR1wH64TU",
        "colab_type": "code",
        "outputId": "1c18bd69-8175-43a0-a023-65024049c771",
        "colab": {
          "base_uri": "https://localhost:8080/"
        }
      },
      "source": [
        "print('The average accuracy for the last 3 epochs is: %.4f.' % np.mean(history.history['val_accuracy'][-3:]))"
      ],
      "execution_count": 0,
      "outputs": [
        {
          "output_type": "stream",
          "text": [
            "The average accuracy for the last 3 epochs is: 0.8744.\n"
          ],
          "name": "stdout"
        }
      ]
    },
    {
      "cell_type": "code",
      "metadata": {
        "id": "bvAwd-Fqmtac",
        "colab_type": "code",
        "outputId": "4aaea98c-8e48-402e-af6d-21456a45b967",
        "colab": {
          "base_uri": "https://localhost:8080/"
        }
      },
      "source": [
        "f, (ax1, ax2) = plt.subplots(1, 2, figsize=(12, 4))\n",
        "t = f.suptitle('Fine-Tuned Pre-trained CNN Performance', fontsize=12)\n",
        "f.subplots_adjust(top=0.85, wspace=0.3)\n",
        "\n",
        "epoch_list = list(range(len(history.history['loss'])))\n",
        "ax1.plot(epoch_list, history.history['accuracy'], label='Train Accuracy')\n",
        "ax1.plot(epoch_list, history.history['val_accuracy'], label='Validation Accuracy')\n",
        "ax1.set_ylabel('Accuracy Value')\n",
        "ax1.set_xlabel('Epoch')\n",
        "ax1.set_title('Accuracy')\n",
        "l1 = ax1.legend(loc=\"best\")\n",
        "\n",
        "ax2.plot(epoch_list, history.history['loss'], label='Train Loss')\n",
        "ax2.plot(epoch_list, history.history['val_loss'], label='Validation Loss')\n",
        "ax2.set_ylabel('Loss Value')\n",
        "ax2.set_xlabel('Epoch')\n",
        "ax2.set_title('Loss')\n",
        "l2 = ax2.legend(loc=\"best\")"
      ],
      "execution_count": 0,
      "outputs": [
        {
          "output_type": "display_data",
          "data": {
            "image/png": "[encoded data removed]",
            "text/plain": [
              "<Figure size 864x288 with 2 Axes>"
            ]
          },
          "metadata": {
            "tags": []
          }
        }
      ]
    },
    {
      "cell_type": "code",
      "metadata": {
        "id": "ecwvKUhn6y_O",
        "colab_type": "code",
        "outputId": "01087601-449d-42e4-d7ba-901792346d73",
        "colab": {
          "base_uri": "https://localhost:8080/"
        }
      },
      "source": [
        "results_df.loc[len(results_df)] = ['Pre-trained CNN (fine-tuning)', np.mean(history.history['val_accuracy'][-4])]\n",
        "results_df"
      ],
      "execution_count": 0,
      "outputs": [
        {
          "output_type": "execute_result",
          "data": {
            "text/html": [
              "<div>\n",
              "<style scoped>\n",
              "    .dataframe tbody tr th:only-of-type {\n",
              "        vertical-align: middle;\n",
              "    }\n",
              "\n",
              "    .dataframe tbody tr th {\n",
              "        vertical-align: top;\n",
              "    }\n",
              "\n",
              "    .dataframe thead th {\n",
              "        text-align: right;\n",
              "    }\n",
              "</style>\n",
              "<table border=\"1\" class=\"dataframe\">\n",
              "  <thead>\n",
              "    <tr style=\"text-align: right;\">\n",
              "      <th></th>\n",
              "      <th>Approach</th>\n",
              "      <th>Accuracy</th>\n",
              "    </tr>\n",
              "  </thead>\n",
              "  <tbody>\n",
              "    <tr>\n",
              "      <th>0</th>\n",
              "      <td>Base Perceptron</td>\n",
              "      <td>0.899333</td>\n",
              "    </tr>\n",
              "    <tr>\n",
              "      <th>1</th>\n",
              "      <td>Base CNN</td>\n",
              "      <td>0.893222</td>\n",
              "    </tr>\n",
              "    <tr>\n",
              "      <th>2</th>\n",
              "      <td>Regularized CNN</td>\n",
              "      <td>0.916389</td>\n",
              "    </tr>\n",
              "    <tr>\n",
              "      <th>3</th>\n",
              "      <td>Pre-trained CNN (feature extractor)</td>\n",
              "      <td>0.883722</td>\n",
              "    </tr>\n",
              "    <tr>\n",
              "      <th>4</th>\n",
              "      <td>Pre-trained CNN (fine-tuning)</td>\n",
              "      <td>0.879722</td>\n",
              "    </tr>\n",
              "  </tbody>\n",
              "</table>\n",
              "</div>"
            ],
            "text/plain": [
              "                              Approach  Accuracy\n",
              "0  Base Perceptron                      0.899333\n",
              "1  Base CNN                             0.893222\n",
              "2  Regularized CNN                      0.916389\n",
              "3  Pre-trained CNN (feature extractor)  0.883722\n",
              "4  Pre-trained CNN (fine-tuning)        0.879722"
            ]
          },
          "metadata": {
            "tags": []
          },
          "execution_count": 80
        }
      ]
    },
    {
      "cell_type": "code",
      "metadata": {
        "id": "kerYM4fILBrM",
        "colab_type": "code",
        "outputId": "a8c56b53-2ca5-4dc3-9c51-a36262e4f47f",
        "colab": {
          "base_uri": "https://localhost:8080/",
          "height": 821
        }
      },
      "source": [
        "%tensorboard --logdir logs/fit"
      ],
      "execution_count": 0,
      "outputs": []
    },
    {
      "cell_type": "markdown",
      "metadata": {
        "colab_type": "text",
        "id": "oEw4bZgGCaXB"
      },
      "source": [
        "## 3. Evaluation\n",
        "\n",
        "Next, compare how the model performs on the test dataset and make some predictions."
      ]
    },
    {
      "cell_type": "markdown",
      "metadata": {
        "id": "bnxGrTkhBl5i",
        "colab_type": "text"
      },
      "source": [
        "### 3.1 – Performance"
      ]
    },
    {
      "cell_type": "code",
      "metadata": {
        "id": "MoanzzJ2nqHO",
        "colab_type": "code",
        "colab": {}
      },
      "source": [
        "# test_loss, test_acc = model_cnn4.evaluate(test_imgs_rgb,  test_labels, verbose=2)\n",
        "\n",
        "# print('\\nTest accuracy:', test_acc)"
      ],
      "execution_count": 0,
      "outputs": []
    },
    {
      "cell_type": "code",
      "metadata": {
        "colab_type": "code",
        "id": "VflXLEeECaXC",
        "outputId": "07caf754-a62a-44e8-9a41-fc6dc033e227",
        "colab": {
          "base_uri": "https://localhost:8080/",
          "height": 68
        }
      },
      "source": [
        "test_loss, test_acc = model_cnn2.evaluate(test_images,  test_labels, verbose=2)\n",
        "\n",
        "print('\\nTest accuracy:', test_acc)"
      ],
      "execution_count": 0,
      "outputs": [
        {
          "output_type": "stream",
          "text": [
            "313/313 - 5s - loss: 0.2595 - accuracy: 0.9115\n",
            "\n",
            "Test accuracy: 0.9114999771118164\n"
          ],
          "name": "stdout"
        }
      ]
    },
    {
      "cell_type": "markdown",
      "metadata": {
        "colab_type": "text",
        "id": "xsoS7CPDCaXH"
      },
      "source": [
        "### 3.2 – Predictions"
      ]
    },
    {
      "cell_type": "code",
      "metadata": {
        "colab_type": "code",
        "id": "Gl91RPhdCaXI",
        "colab": {}
      },
      "source": [
        "predictions = model_cnn2.predict(test_images)"
      ],
      "execution_count": 0,
      "outputs": []
    },
    {
      "cell_type": "code",
      "metadata": {
        "colab_type": "code",
        "id": "DvYmmrpIy6Y1",
        "colab": {}
      },
      "source": [
        "def plot_image(i, predictions_array, true_label, img):\n",
        "  predictions_array, true_label, img = predictions_array, true_label[i], img[i]\n",
        "  plt.grid(False)\n",
        "  plt.xticks([])\n",
        "  plt.yticks([])\n",
        "\n",
        "  plt.imshow(img, cmap=plt.cm.binary)\n",
        "\n",
        "  predicted_label = np.argmax(predictions_array)\n",
        "  if predicted_label == true_label:\n",
        "    color = 'blue'\n",
        "  else:\n",
        "    color = 'red'\n",
        "\n",
        "  plt.xlabel(\"{} {:2.0f}% ({})\".format(class_names[predicted_label],\n",
        "                                100*np.max(predictions_array),\n",
        "                                class_names[true_label]),\n",
        "                                color=color)\n",
        "\n",
        "def plot_value_array(i, predictions_array, true_label):\n",
        "  predictions_array, true_label = predictions_array, true_label[i]\n",
        "  plt.grid(False)\n",
        "  plt.xticks(range(10))\n",
        "  plt.yticks([])\n",
        "  thisplot = plt.bar(range(10), predictions_array, color=\"#777777\")\n",
        "  plt.ylim([0, 1])\n",
        "  predicted_label = np.argmax(predictions_array)\n",
        "\n",
        "  thisplot[predicted_label].set_color('red')\n",
        "  thisplot[true_label].set_color('blue')"
      ],
      "execution_count": 0,
      "outputs": []
    },
    {
      "cell_type": "markdown",
      "metadata": {
        "colab_type": "text",
        "id": "kgdvGD52CaXR"
      },
      "source": [
        "Let's plot several images with their predictions. Note that the model can be wrong even when very confident."
      ]
    },
    {
      "cell_type": "code",
      "metadata": {
        "colab_type": "code",
        "id": "hQlnbqaw2Qu_",
        "outputId": "eee70393-93de-481a-957d-46bbb4933348",
        "colab": {
          "base_uri": "https://localhost:8080/",
          "height": 729
        }
      },
      "source": [
        "# Plot the first X test images, their predicted labels, and the true labels.\n",
        "# Color correct predictions in blue and incorrect predictions in red.\n",
        "num_rows = 5\n",
        "num_cols = 3\n",
        "num_images = num_rows*num_cols\n",
        "plt.figure(figsize=(2*2*num_cols, 2*num_rows))\n",
        "for i in range(num_images):\n",
        "  plt.subplot(num_rows, 2*num_cols, 2*i+1)\n",
        "  plot_image(i, predictions[i], test_labels, test_images)\n",
        "  plt.subplot(num_rows, 2*num_cols, 2*i+2)\n",
        "  plot_value_array(i, predictions[i], test_labels)\n",
        "plt.tight_layout()\n",
        "plt.show()"
      ],
      "execution_count": 0,
      "outputs": [
        {
          "output_type": "display_data",
          "data": {
            "image/png": "[encoded data removed]",
            "text/plain": [
              "<Figure size 864x720 with 30 Axes>"
            ]
          },
          "metadata": {
            "tags": []
          }
        }
      ]
    },
    {
      "cell_type": "code",
      "metadata": {
        "id": "Vupj_RFNVhn6",
        "colab_type": "code",
        "colab": {}
      },
      "source": [
        "preds = []\n",
        "\n",
        "for i in predictions:\n",
        "  preds.append(np.argmax(i))"
      ],
      "execution_count": 0,
      "outputs": []
    },
    {
      "cell_type": "code",
      "metadata": {
        "id": "9m9vRlHVQGqK",
        "colab_type": "code",
        "outputId": "57dc2c22-cb66-4638-8fd6-5065c79ad8b8",
        "colab": {
          "base_uri": "https://localhost:8080/"
        }
      },
      "source": [
        "print(classification_report(test_labels, preds))"
      ],
      "execution_count": 0,
      "outputs": [
        {
          "output_type": "stream",
          "text": [
            "              precision    recall  f1-score   support\n",
            "\n",
            "           0       0.88      0.83      0.85      1000\n",
            "           1       0.99      0.98      0.99      1000\n",
            "           2       0.91      0.84      0.87      1000\n",
            "           3       0.93      0.89      0.91      1000\n",
            "           4       0.84      0.90      0.87      1000\n",
            "           5       0.99      0.97      0.98      1000\n",
            "           6       0.71      0.78      0.74      1000\n",
            "           7       0.96      0.97      0.96      1000\n",
            "           8       0.97      0.98      0.98      1000\n",
            "           9       0.97      0.97      0.97      1000\n",
            "\n",
            "    accuracy                           0.91     10000\n",
            "   macro avg       0.91      0.91      0.91     10000\n",
            "weighted avg       0.91      0.91      0.91     10000\n",
            "\n"
          ],
          "name": "stdout"
        }
      ]
    },
    {
      "cell_type": "code",
      "metadata": {
        "id": "p4fgMnZ9X6ke",
        "colab_type": "code",
        "colab": {}
      },
      "source": [
        ""
      ],
      "execution_count": 0,
      "outputs": []
    }
  ]
}